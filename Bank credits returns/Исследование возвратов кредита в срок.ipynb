{
 "cells": [
  {
   "cell_type": "markdown",
   "id": "eb9f9226",
   "metadata": {},
   "source": [
    "# Исследование надежности заемщиков."
   ]
  },
  {
   "cell_type": "markdown",
   "id": "5cc9ebf2",
   "metadata": {},
   "source": [
    "Для эффективной работы банку нужно оценить способность потенциального заёмщика вернуть кредит. На статистике о платёжеспособности клиентов мы посмотрим, от чего зависит способность клиента вернуть кредит в срок.\n",
    "\n",
    "**Цель исследования** — проверить четыре гипотезы:\n",
    "1. Вероятность возврата кредита в срок зависит от количества детей клиента.\n",
    "2. Вероятность возврата кредита в срок зависит от семейного положения клиента. \n",
    "3. Вероятность возврата кредита в срок зависит от уровня дохода клиента.\n",
    "4. Цели кредита влияют на вероятность возврат кредита в срок.\n",
    "\n",
    "**Ход исследования**\n",
    "\n",
    "Исследование пройдёт в три этапа:\n",
    " 1. Обзор данных.\n",
    " 2. Предобработка данных.\n",
    " 3. Проверка гипотез."
   ]
  },
  {
   "cell_type": "markdown",
   "id": "4eacfad8",
   "metadata": {},
   "source": [
    "###  Обзор данных"
   ]
  },
  {
   "cell_type": "markdown",
   "id": "72a67145",
   "metadata": {},
   "source": [
    "Составим первое представление о данных о платежеспособности клиентов."
   ]
  },
  {
   "cell_type": "code",
   "execution_count": 1,
   "id": "118e48cb",
   "metadata": {},
   "outputs": [],
   "source": [
    "# импорт библиотек\n",
    "import pandas as pd\n",
    "import numpy as np\n"
   ]
  },
  {
   "cell_type": "code",
   "execution_count": 2,
   "id": "e7f6ffac",
   "metadata": {},
   "outputs": [
    {
     "data": {
      "text/html": [
       "<div>\n",
       "<style scoped>\n",
       "    .dataframe tbody tr th:only-of-type {\n",
       "        vertical-align: middle;\n",
       "    }\n",
       "\n",
       "    .dataframe tbody tr th {\n",
       "        vertical-align: top;\n",
       "    }\n",
       "\n",
       "    .dataframe thead th {\n",
       "        text-align: right;\n",
       "    }\n",
       "</style>\n",
       "<table border=\"1\" class=\"dataframe\">\n",
       "  <thead>\n",
       "    <tr style=\"text-align: right;\">\n",
       "      <th></th>\n",
       "      <th>children</th>\n",
       "      <th>days_employed</th>\n",
       "      <th>dob_years</th>\n",
       "      <th>education</th>\n",
       "      <th>education_id</th>\n",
       "      <th>family_status</th>\n",
       "      <th>family_status_id</th>\n",
       "      <th>gender</th>\n",
       "      <th>income_type</th>\n",
       "      <th>debt</th>\n",
       "      <th>total_income</th>\n",
       "      <th>purpose</th>\n",
       "    </tr>\n",
       "  </thead>\n",
       "  <tbody>\n",
       "    <tr>\n",
       "      <th>0</th>\n",
       "      <td>1</td>\n",
       "      <td>-8437.673028</td>\n",
       "      <td>42</td>\n",
       "      <td>высшее</td>\n",
       "      <td>0</td>\n",
       "      <td>женат / замужем</td>\n",
       "      <td>0</td>\n",
       "      <td>F</td>\n",
       "      <td>сотрудник</td>\n",
       "      <td>0</td>\n",
       "      <td>253875.639453</td>\n",
       "      <td>покупка жилья</td>\n",
       "    </tr>\n",
       "    <tr>\n",
       "      <th>1</th>\n",
       "      <td>1</td>\n",
       "      <td>-4024.803754</td>\n",
       "      <td>36</td>\n",
       "      <td>среднее</td>\n",
       "      <td>1</td>\n",
       "      <td>женат / замужем</td>\n",
       "      <td>0</td>\n",
       "      <td>F</td>\n",
       "      <td>сотрудник</td>\n",
       "      <td>0</td>\n",
       "      <td>112080.014102</td>\n",
       "      <td>приобретение автомобиля</td>\n",
       "    </tr>\n",
       "    <tr>\n",
       "      <th>2</th>\n",
       "      <td>0</td>\n",
       "      <td>-5623.422610</td>\n",
       "      <td>33</td>\n",
       "      <td>Среднее</td>\n",
       "      <td>1</td>\n",
       "      <td>женат / замужем</td>\n",
       "      <td>0</td>\n",
       "      <td>M</td>\n",
       "      <td>сотрудник</td>\n",
       "      <td>0</td>\n",
       "      <td>145885.952297</td>\n",
       "      <td>покупка жилья</td>\n",
       "    </tr>\n",
       "    <tr>\n",
       "      <th>3</th>\n",
       "      <td>3</td>\n",
       "      <td>-4124.747207</td>\n",
       "      <td>32</td>\n",
       "      <td>среднее</td>\n",
       "      <td>1</td>\n",
       "      <td>женат / замужем</td>\n",
       "      <td>0</td>\n",
       "      <td>M</td>\n",
       "      <td>сотрудник</td>\n",
       "      <td>0</td>\n",
       "      <td>267628.550329</td>\n",
       "      <td>дополнительное образование</td>\n",
       "    </tr>\n",
       "    <tr>\n",
       "      <th>4</th>\n",
       "      <td>0</td>\n",
       "      <td>340266.072047</td>\n",
       "      <td>53</td>\n",
       "      <td>среднее</td>\n",
       "      <td>1</td>\n",
       "      <td>гражданский брак</td>\n",
       "      <td>1</td>\n",
       "      <td>F</td>\n",
       "      <td>пенсионер</td>\n",
       "      <td>0</td>\n",
       "      <td>158616.077870</td>\n",
       "      <td>сыграть свадьбу</td>\n",
       "    </tr>\n",
       "    <tr>\n",
       "      <th>5</th>\n",
       "      <td>0</td>\n",
       "      <td>-926.185831</td>\n",
       "      <td>27</td>\n",
       "      <td>высшее</td>\n",
       "      <td>0</td>\n",
       "      <td>гражданский брак</td>\n",
       "      <td>1</td>\n",
       "      <td>M</td>\n",
       "      <td>компаньон</td>\n",
       "      <td>0</td>\n",
       "      <td>255763.565419</td>\n",
       "      <td>покупка жилья</td>\n",
       "    </tr>\n",
       "    <tr>\n",
       "      <th>6</th>\n",
       "      <td>0</td>\n",
       "      <td>-2879.202052</td>\n",
       "      <td>43</td>\n",
       "      <td>высшее</td>\n",
       "      <td>0</td>\n",
       "      <td>женат / замужем</td>\n",
       "      <td>0</td>\n",
       "      <td>F</td>\n",
       "      <td>компаньон</td>\n",
       "      <td>0</td>\n",
       "      <td>240525.971920</td>\n",
       "      <td>операции с жильем</td>\n",
       "    </tr>\n",
       "    <tr>\n",
       "      <th>7</th>\n",
       "      <td>0</td>\n",
       "      <td>-152.779569</td>\n",
       "      <td>50</td>\n",
       "      <td>СРЕДНЕЕ</td>\n",
       "      <td>1</td>\n",
       "      <td>женат / замужем</td>\n",
       "      <td>0</td>\n",
       "      <td>M</td>\n",
       "      <td>сотрудник</td>\n",
       "      <td>0</td>\n",
       "      <td>135823.934197</td>\n",
       "      <td>образование</td>\n",
       "    </tr>\n",
       "    <tr>\n",
       "      <th>8</th>\n",
       "      <td>2</td>\n",
       "      <td>-6929.865299</td>\n",
       "      <td>35</td>\n",
       "      <td>ВЫСШЕЕ</td>\n",
       "      <td>0</td>\n",
       "      <td>гражданский брак</td>\n",
       "      <td>1</td>\n",
       "      <td>F</td>\n",
       "      <td>сотрудник</td>\n",
       "      <td>0</td>\n",
       "      <td>95856.832424</td>\n",
       "      <td>на проведение свадьбы</td>\n",
       "    </tr>\n",
       "    <tr>\n",
       "      <th>9</th>\n",
       "      <td>0</td>\n",
       "      <td>-2188.756445</td>\n",
       "      <td>41</td>\n",
       "      <td>среднее</td>\n",
       "      <td>1</td>\n",
       "      <td>женат / замужем</td>\n",
       "      <td>0</td>\n",
       "      <td>M</td>\n",
       "      <td>сотрудник</td>\n",
       "      <td>0</td>\n",
       "      <td>144425.938277</td>\n",
       "      <td>покупка жилья для семьи</td>\n",
       "    </tr>\n",
       "  </tbody>\n",
       "</table>\n",
       "</div>"
      ],
      "text/plain": [
       "   children  days_employed  dob_years education  education_id  \\\n",
       "0         1   -8437.673028         42    высшее             0   \n",
       "1         1   -4024.803754         36   среднее             1   \n",
       "2         0   -5623.422610         33   Среднее             1   \n",
       "3         3   -4124.747207         32   среднее             1   \n",
       "4         0  340266.072047         53   среднее             1   \n",
       "5         0    -926.185831         27    высшее             0   \n",
       "6         0   -2879.202052         43    высшее             0   \n",
       "7         0    -152.779569         50   СРЕДНЕЕ             1   \n",
       "8         2   -6929.865299         35    ВЫСШЕЕ             0   \n",
       "9         0   -2188.756445         41   среднее             1   \n",
       "\n",
       "      family_status  family_status_id gender income_type  debt   total_income  \\\n",
       "0   женат / замужем                 0      F   сотрудник     0  253875.639453   \n",
       "1   женат / замужем                 0      F   сотрудник     0  112080.014102   \n",
       "2   женат / замужем                 0      M   сотрудник     0  145885.952297   \n",
       "3   женат / замужем                 0      M   сотрудник     0  267628.550329   \n",
       "4  гражданский брак                 1      F   пенсионер     0  158616.077870   \n",
       "5  гражданский брак                 1      M   компаньон     0  255763.565419   \n",
       "6   женат / замужем                 0      F   компаньон     0  240525.971920   \n",
       "7   женат / замужем                 0      M   сотрудник     0  135823.934197   \n",
       "8  гражданский брак                 1      F   сотрудник     0   95856.832424   \n",
       "9   женат / замужем                 0      M   сотрудник     0  144425.938277   \n",
       "\n",
       "                      purpose  \n",
       "0               покупка жилья  \n",
       "1     приобретение автомобиля  \n",
       "2               покупка жилья  \n",
       "3  дополнительное образование  \n",
       "4             сыграть свадьбу  \n",
       "5               покупка жилья  \n",
       "6           операции с жильем  \n",
       "7                 образование  \n",
       "8       на проведение свадьбы  \n",
       "9     покупка жилья для семьи  "
      ]
     },
     "execution_count": 2,
     "metadata": {},
     "output_type": "execute_result"
    }
   ],
   "source": [
    "# чтение файла с данными и сохранение в df \n",
    "df = pd.read_csv('data (2).csv')\n",
    "# получение первых 10 строк таблицы df\n",
    "df.head(10)"
   ]
  },
  {
   "cell_type": "code",
   "execution_count": 3,
   "id": "dfd4e9ec",
   "metadata": {},
   "outputs": [
    {
     "name": "stdout",
     "output_type": "stream",
     "text": [
      "<class 'pandas.core.frame.DataFrame'>\n",
      "RangeIndex: 21525 entries, 0 to 21524\n",
      "Data columns (total 12 columns):\n",
      " #   Column            Non-Null Count  Dtype  \n",
      "---  ------            --------------  -----  \n",
      " 0   children          21525 non-null  int64  \n",
      " 1   days_employed     19351 non-null  float64\n",
      " 2   dob_years         21525 non-null  int64  \n",
      " 3   education         21525 non-null  object \n",
      " 4   education_id      21525 non-null  int64  \n",
      " 5   family_status     21525 non-null  object \n",
      " 6   family_status_id  21525 non-null  int64  \n",
      " 7   gender            21525 non-null  object \n",
      " 8   income_type       21525 non-null  object \n",
      " 9   debt              21525 non-null  int64  \n",
      " 10  total_income      19351 non-null  float64\n",
      " 11  purpose           21525 non-null  object \n",
      "dtypes: float64(2), int64(5), object(5)\n",
      "memory usage: 2.0+ MB\n"
     ]
    }
   ],
   "source": [
    "# получение общей информации о данных в таблице df\n",
    "df.info()"
   ]
  },
  {
   "cell_type": "markdown",
   "id": "82c0e0da",
   "metadata": {},
   "source": [
    "**Выводы**\n",
    "\n",
    "В каждой строке таблицы — данные о клиенте, его кредите и задолженности по возврату.  Предварительно можно утверждать, что данных достаточно для проверки гипотез. Но встречаются пропуски в данных.\n",
    "\n",
    "Чтобы двигаться дальше, нужно устранить проблемы в данных."
   ]
  },
  {
   "cell_type": "markdown",
   "id": "2a434afd",
   "metadata": {},
   "source": [
    "### Заполнение пропусков"
   ]
  },
  {
   "cell_type": "markdown",
   "id": "688df1a8",
   "metadata": {},
   "source": [
    "Посчитаем, сколько в таблице пропущенных значений."
   ]
  },
  {
   "cell_type": "code",
   "execution_count": 4,
   "id": "0c76e726",
   "metadata": {},
   "outputs": [
    {
     "data": {
      "text/plain": [
       "children               0\n",
       "days_employed       2174\n",
       "dob_years              0\n",
       "education              0\n",
       "education_id           0\n",
       "family_status          0\n",
       "family_status_id       0\n",
       "gender                 0\n",
       "income_type            0\n",
       "debt                   0\n",
       "total_income        2174\n",
       "purpose                0\n",
       "dtype: int64"
      ]
     },
     "execution_count": 4,
     "metadata": {},
     "output_type": "execute_result"
    }
   ],
   "source": [
    "df.isnull().sum()"
   ]
  },
  {
   "cell_type": "markdown",
   "id": "a4c2fcce",
   "metadata": {},
   "source": [
    "Мы обнаружили пропуски в `days_employed ` и `total_income`. Проверим, какую долю составляют пропущенные значения в каждом из столбцовс пропусками.\n"
   ]
  },
  {
   "cell_type": "code",
   "execution_count": 5,
   "id": "19dce64e",
   "metadata": {},
   "outputs": [
    {
     "data": {
      "text/plain": [
       "children            0.000000\n",
       "days_employed       0.100999\n",
       "dob_years           0.000000\n",
       "education           0.000000\n",
       "education_id        0.000000\n",
       "family_status       0.000000\n",
       "family_status_id    0.000000\n",
       "gender              0.000000\n",
       "income_type         0.000000\n",
       "debt                0.000000\n",
       "total_income        0.100999\n",
       "purpose             0.000000\n",
       "dtype: float64"
      ]
     },
     "execution_count": 5,
     "metadata": {},
     "output_type": "execute_result"
    }
   ],
   "source": [
    "df.isna().mean()"
   ]
  },
  {
   "cell_type": "markdown",
   "id": "6ef27973",
   "metadata": {},
   "source": [
    "Пропущенные значения в каждом из столбцов с пропусками составляют около 10%. В `days_employed ` и `total_income` мы имеем дело с количесвтенными переменными. Такие пропуски заполняют характерными\n",
    "значениями. Это значения, характеризующие состояние выборки. \n",
    "\n",
    "Чтобы примерно оценить типичные значения выборки, годятся среднее арифметическое или медиана.Чтобы избежать влияния выбросов, будем использовать медаину.\n",
    "\n",
    "\n"
   ]
  },
  {
   "cell_type": "markdown",
   "id": "f301e327",
   "metadata": {},
   "source": [
    "В столбце `total_income` заполним пропуски  медианой в зависимости от типа занятости"
   ]
  },
  {
   "cell_type": "code",
   "execution_count": 6,
   "id": "53e5b4fd",
   "metadata": {},
   "outputs": [],
   "source": [
    "df['total_income'] = df['total_income'].fillna(df.groupby('income_type')['total_income'].transform(\"median\"))\n"
   ]
  },
  {
   "cell_type": "markdown",
   "id": "83d5a4b2",
   "metadata": {},
   "source": [
    "Найдем медианное значение для столбца `days_employed`."
   ]
  },
  {
   "cell_type": "code",
   "execution_count": 7,
   "id": "6fd4bd7a",
   "metadata": {},
   "outputs": [
    {
     "data": {
      "text/plain": [
       "-1203.369528770489"
      ]
     },
     "execution_count": 7,
     "metadata": {},
     "output_type": "execute_result"
    }
   ],
   "source": [
    "df['days_employed'].sort_values().median()"
   ]
  },
  {
   "cell_type": "markdown",
   "id": "6e0a7702",
   "metadata": {},
   "source": [
    "Мы столкнулись с аномалией - отрицательное количество дней трудового стажа в столбце days_employed. Для реальных данных это нормально. Обработаем значения в столбцах с аномалиями."
   ]
  },
  {
   "cell_type": "markdown",
   "id": "e67e4862",
   "metadata": {},
   "source": [
    "### Проверка данных на аномалии и исправления."
   ]
  },
  {
   "cell_type": "markdown",
   "id": "c9fd793b",
   "metadata": {},
   "source": [
    "Возможно, при записи столбца `days_employed` произошлел технический сбой. Посмотим, какие значения встрчаются в столбце\n"
   ]
  },
  {
   "cell_type": "code",
   "execution_count": 8,
   "id": "1f95526e",
   "metadata": {},
   "outputs": [
    {
     "data": {
      "text/plain": [
       "count     19351.000000\n",
       "mean      63046.497661\n",
       "std      140827.311974\n",
       "min      -18388.949901\n",
       "25%       -2747.423625\n",
       "50%       -1203.369529\n",
       "75%        -291.095954\n",
       "max      401755.400475\n",
       "Name: days_employed, dtype: float64"
      ]
     },
     "execution_count": 8,
     "metadata": {},
     "output_type": "execute_result"
    }
   ],
   "source": [
    "df['days_employed'].describe()"
   ]
  },
  {
   "cell_type": "markdown",
   "id": "8325a4ff",
   "metadata": {},
   "source": [
    "Большая часть значаений - отрицательные. Также приссутсвуют выбросы. Возьмем абсолютные значения и найдем медиану. "
   ]
  },
  {
   "cell_type": "code",
   "execution_count": 9,
   "id": "209d04eb",
   "metadata": {},
   "outputs": [],
   "source": [
    " df['days_employed'] = abs(df['days_employed'])"
   ]
  },
  {
   "cell_type": "code",
   "execution_count": 10,
   "id": "bd901661",
   "metadata": {},
   "outputs": [],
   "source": [
    "days_employed_median = df['days_employed'].sort_values().median()"
   ]
  },
  {
   "cell_type": "markdown",
   "id": "9ce5e240",
   "metadata": {},
   "source": [
    "Заполним пропуски медианой "
   ]
  },
  {
   "cell_type": "code",
   "execution_count": 11,
   "id": "c27419a1",
   "metadata": {},
   "outputs": [],
   "source": [
    "df['days_employed'] = df['days_employed'].fillna(days_employed_median)"
   ]
  },
  {
   "cell_type": "code",
   "execution_count": 12,
   "id": "0b7659f0",
   "metadata": {},
   "outputs": [
    {
     "data": {
      "text/plain": [
       "2194.220567      2175\n",
       "329951.594147       1\n",
       "886.253127          1\n",
       "2539.534295         1\n",
       "390574.985524       1\n",
       "                 ... \n",
       "1320.841444         1\n",
       "1394.302246         1\n",
       "2325.720832         1\n",
       "4086.407828         1\n",
       "1636.419775         1\n",
       "Name: days_employed, Length: 19351, dtype: int64"
      ]
     },
     "execution_count": 12,
     "metadata": {},
     "output_type": "execute_result"
    }
   ],
   "source": [
    "df['days_employed'].value_counts()\n"
   ]
  },
  {
   "cell_type": "markdown",
   "id": "6d9b7db6",
   "metadata": {},
   "source": [
    "Проверим значения в критических для анализа столбцах с категориальными данными - дети, семейное положение и цели. Сначала найдем уникальные значения столбца `children`."
   ]
  },
  {
   "cell_type": "code",
   "execution_count": 13,
   "id": "7b434633",
   "metadata": {},
   "outputs": [
    {
     "data": {
      "text/plain": [
       " 0     14149\n",
       " 1      4818\n",
       " 2      2055\n",
       " 3       330\n",
       " 20       76\n",
       "-1        47\n",
       " 4        41\n",
       " 5         9\n",
       "Name: children, dtype: int64"
      ]
     },
     "execution_count": 13,
     "metadata": {},
     "output_type": "execute_result"
    }
   ],
   "source": [
    "df['children'].value_counts()"
   ]
  },
  {
   "cell_type": "markdown",
   "id": "bfb0e810",
   "metadata": {},
   "source": [
    "В столбце `children` два странных значения - 20 и -1. Скорее всего, оба значения стали результатом ошибки. Поскольку на значения '20' и '-1' в столбце `children` приходится меньше 1% данных, их удаление не повлияет на финальный результат. \n"
   ]
  },
  {
   "cell_type": "code",
   "execution_count": 14,
   "id": "bc47e016",
   "metadata": {},
   "outputs": [],
   "source": [
    "df = df.loc[df['children'] != 20]\n",
    "df = df.loc[df['children'] != -1]\n"
   ]
  },
  {
   "cell_type": "markdown",
   "id": "f838222f",
   "metadata": {},
   "source": [
    "Проверим удаление."
   ]
  },
  {
   "cell_type": "code",
   "execution_count": 15,
   "id": "5359ae3d",
   "metadata": {},
   "outputs": [
    {
     "data": {
      "text/plain": [
       "0    14149\n",
       "1     4818\n",
       "2     2055\n",
       "3      330\n",
       "4       41\n",
       "5        9\n",
       "Name: children, dtype: int64"
      ]
     },
     "execution_count": 15,
     "metadata": {},
     "output_type": "execute_result"
    }
   ],
   "source": [
    "df['children'].value_counts()"
   ]
  },
  {
   "cell_type": "markdown",
   "id": "5563ec28",
   "metadata": {},
   "source": [
    "Теперь найдем уникальные значения столбца о семейном положении."
   ]
  },
  {
   "cell_type": "code",
   "execution_count": 16,
   "id": "b3d2fe65",
   "metadata": {},
   "outputs": [
    {
     "data": {
      "text/plain": [
       "женат / замужем          12302\n",
       "гражданский брак          4160\n",
       "Не женат / не замужем     2799\n",
       "в разводе                 1189\n",
       "вдовец / вдова             952\n",
       "Name: family_status, dtype: int64"
      ]
     },
     "execution_count": 16,
     "metadata": {},
     "output_type": "execute_result"
    }
   ],
   "source": [
    "df['family_status'].value_counts()"
   ]
  },
  {
   "cell_type": "markdown",
   "id": "bfa91df1",
   "metadata": {},
   "source": [
    "Со значениями все впорядке."
   ]
  },
  {
   "cell_type": "markdown",
   "id": "da84fb48",
   "metadata": {},
   "source": [
    "Посмотрим, что встречается в целях."
   ]
  },
  {
   "cell_type": "code",
   "execution_count": 17,
   "id": "3c11f3d6",
   "metadata": {},
   "outputs": [
    {
     "data": {
      "text/plain": [
       "свадьба                                   796\n",
       "на проведение свадьбы                     772\n",
       "сыграть свадьбу                           769\n",
       "операции с недвижимостью                  673\n",
       "покупка коммерческой недвижимости         661\n",
       "покупка жилья для сдачи                   651\n",
       "операции с жильем                         648\n",
       "операции с коммерческой недвижимостью     646\n",
       "жилье                                     642\n",
       "покупка жилья                             641\n",
       "покупка жилья для семьи                   640\n",
       "недвижимость                              632\n",
       "строительство собственной недвижимости    628\n",
       "операции со своей недвижимостью           626\n",
       "строительство жилой недвижимости          622\n",
       "строительство недвижимости                620\n",
       "покупка своего жилья                      619\n",
       "покупка недвижимости                      619\n",
       "ремонт жилью                              609\n",
       "покупка жилой недвижимости                603\n",
       "на покупку своего автомобиля              504\n",
       "заняться высшим образованием              496\n",
       "автомобиль                                492\n",
       "сделка с подержанным автомобилем          484\n",
       "автомобили                                476\n",
       "свой автомобиль                           475\n",
       "на покупку подержанного автомобиля        472\n",
       "на покупку автомобиля                     470\n",
       "приобретение автомобиля                   460\n",
       "дополнительное образование                457\n",
       "сделка с автомобилем                      455\n",
       "высшее образование                        447\n",
       "получение дополнительного образования     445\n",
       "образование                               442\n",
       "получение образования                     441\n",
       "профильное образование                    432\n",
       "получение высшего образования             425\n",
       "заняться образованием                     412\n",
       "Name: purpose, dtype: int64"
      ]
     },
     "execution_count": 17,
     "metadata": {},
     "output_type": "execute_result"
    }
   ],
   "source": [
    "df['purpose'].value_counts()"
   ]
  },
  {
   "cell_type": "markdown",
   "id": "45d4a9d6",
   "metadata": {},
   "source": [
    "Кажется, все ок, но встречаются неявные дубликаты вроде \"автомобили\",\"сделка с автомобилем\",\"приобретение автомобиля\" и тд. Заменим это в следующем шаге."
   ]
  },
  {
   "cell_type": "markdown",
   "id": "d300ca97",
   "metadata": {},
   "source": [
    "###  Изменение типов данных."
   ]
  },
  {
   "cell_type": "markdown",
   "id": "63060d1d",
   "metadata": {},
   "source": [
    "Также заменим вещественный тип данных в столбце total_income на целочисленный.\n"
   ]
  },
  {
   "cell_type": "code",
   "execution_count": 18,
   "id": "acaa7ab2",
   "metadata": {},
   "outputs": [],
   "source": [
    "df['total_income']=df['total_income'].astype('int')\n"
   ]
  },
  {
   "cell_type": "markdown",
   "id": "16204cbf",
   "metadata": {},
   "source": [
    "### Удаление дубликатов."
   ]
  },
  {
   "cell_type": "markdown",
   "id": "0d62b72a",
   "metadata": {},
   "source": [
    "Найдем строки-дубликаты."
   ]
  },
  {
   "cell_type": "code",
   "execution_count": 19,
   "id": "81b121a4",
   "metadata": {},
   "outputs": [
    {
     "data": {
      "text/plain": [
       "54"
      ]
     },
     "execution_count": 19,
     "metadata": {},
     "output_type": "execute_result"
    }
   ],
   "source": [
    "df.duplicated().sum()"
   ]
  },
  {
   "cell_type": "markdown",
   "id": "dc745e08",
   "metadata": {},
   "source": [
    "Удалим строки-дубликаты"
   ]
  },
  {
   "cell_type": "code",
   "execution_count": 20,
   "id": "95d83e30",
   "metadata": {},
   "outputs": [],
   "source": [
    "df = df.drop_duplicates().reset_index(drop=True)"
   ]
  },
  {
   "cell_type": "markdown",
   "id": "d701464d",
   "metadata": {},
   "source": [
    "Обработаем неявные дубликаты.Например, в столбце education есть одни и те же значения, но записанные по-разному: с использованием заглавных и строчных букв. Приведем их к одному регистру."
   ]
  },
  {
   "cell_type": "code",
   "execution_count": 21,
   "id": "f30a1273",
   "metadata": {},
   "outputs": [],
   "source": [
    "df['education']= df['education'].str.lower()\n"
   ]
  },
  {
   "cell_type": "markdown",
   "id": "08c888d6",
   "metadata": {},
   "source": [
    "Проверим"
   ]
  },
  {
   "cell_type": "code",
   "execution_count": 22,
   "id": "e9d18e59",
   "metadata": {},
   "outputs": [
    {
     "data": {
      "text/plain": [
       "среднее                15091\n",
       "высшее                  5228\n",
       "неоконченное высшее      741\n",
       "начальное                282\n",
       "ученая степень             6\n",
       "Name: education, dtype: int64"
      ]
     },
     "execution_count": 22,
     "metadata": {},
     "output_type": "execute_result"
    }
   ],
   "source": [
    "df['education'].value_counts()"
   ]
  },
  {
   "cell_type": "markdown",
   "id": "19554311",
   "metadata": {},
   "source": [
    "Еще раз посмотрим \n",
    "уникальные значения столбца 'purpose'\n"
   ]
  },
  {
   "cell_type": "code",
   "execution_count": 23,
   "id": "edf605d9",
   "metadata": {},
   "outputs": [
    {
     "data": {
      "text/plain": [
       "свадьба                                   792\n",
       "на проведение свадьбы                     768\n",
       "сыграть свадьбу                           764\n",
       "операции с недвижимостью                  672\n",
       "покупка коммерческой недвижимости         659\n",
       "покупка жилья для сдачи                   650\n",
       "операции с жильем                         647\n",
       "операции с коммерческой недвижимостью     645\n",
       "жилье                                     641\n",
       "покупка жилья                             640\n",
       "покупка жилья для семьи                   637\n",
       "недвижимость                              631\n",
       "строительство собственной недвижимости    628\n",
       "операции со своей недвижимостью           623\n",
       "строительство жилой недвижимости          621\n",
       "строительство недвижимости                619\n",
       "покупка своего жилья                      619\n",
       "покупка недвижимости                      616\n",
       "ремонт жилью                              604\n",
       "покупка жилой недвижимости                602\n",
       "на покупку своего автомобиля              504\n",
       "заняться высшим образованием              496\n",
       "автомобиль                                491\n",
       "сделка с подержанным автомобилем          481\n",
       "автомобили                                476\n",
       "свой автомобиль                           474\n",
       "на покупку подержанного автомобиля        471\n",
       "на покупку автомобиля                     470\n",
       "приобретение автомобиля                   459\n",
       "дополнительное образование                455\n",
       "сделка с автомобилем                      455\n",
       "высшее образование                        446\n",
       "получение дополнительного образования     445\n",
       "образование                               442\n",
       "получение образования                     440\n",
       "профильное образование                    432\n",
       "получение высшего образования             425\n",
       "заняться образованием                     408\n",
       "Name: purpose, dtype: int64"
      ]
     },
     "execution_count": 23,
     "metadata": {},
     "output_type": "execute_result"
    }
   ],
   "source": [
    "df['purpose'].value_counts()"
   ]
  },
  {
   "cell_type": "markdown",
   "id": "33d98ee8",
   "metadata": {},
   "source": [
    "Напишем функцию для замены дупликатов."
   ]
  },
  {
   "cell_type": "code",
   "execution_count": 24,
   "id": "bea94251",
   "metadata": {},
   "outputs": [],
   "source": [
    "def replace_wrong_purpose(wrong_purposes, correct_purpose):\n",
    "    for wrong_purpose in wrong_purposes:\n",
    "        df['purpose'] = df['purpose'].replace(wrong_purpose,correct_purpose)\n",
    " "
   ]
  },
  {
   "cell_type": "markdown",
   "id": "448c7611",
   "metadata": {},
   "source": [
    "Объединим кредиты, связанные со свадьбой"
   ]
  },
  {
   "cell_type": "code",
   "execution_count": 25,
   "id": "f79d9d29",
   "metadata": {},
   "outputs": [],
   "source": [
    "duplicates = ['на проведение свадьбы', 'сыграть свадьбу']\n",
    "correct_purpose = 'свадьба'\n",
    "replace_wrong_purpose(duplicates,correct_purpose)"
   ]
  },
  {
   "cell_type": "markdown",
   "id": "39da9b53",
   "metadata": {},
   "source": [
    "Объединим кредиты, связанные с недвижимостью"
   ]
  },
  {
   "cell_type": "code",
   "execution_count": 26,
   "id": "11e9b39e",
   "metadata": {},
   "outputs": [],
   "source": [
    "duplicates = ['операции с недвижимостью','покупка коммерческой недвижимости','покупка жилья для сдачи','операции с жильем','операции с коммерческой недвижимостью','покупка жилья','жилье','покупка жилья для семьи','строительство собственной недвижимости','недвижимость','операции со своей недвижимостью','строительство жилой недвижимости','покупка недвижимости','покупка своего жилья','строительство недвижимости','ремонт жилью','покупка жилой недвижимости']\n",
    "correct_purpose = 'недвижимость'\n",
    "replace_wrong_purpose(duplicates,correct_purpose)"
   ]
  },
  {
   "cell_type": "markdown",
   "id": "5919cd24",
   "metadata": {},
   "source": [
    "Объединим кредиты, связанные с автомобилем:"
   ]
  },
  {
   "cell_type": "code",
   "execution_count": 27,
   "id": "4708d694",
   "metadata": {},
   "outputs": [],
   "source": [
    "duplicates = ['на покупку своего автомобиля', 'сделка с подержанным автомобилем','свой автомобиль','автомобили','на покупку подержанного автомобиля','на покупку автомобиля','приобретение автомобиля','сделка с автомобилем']#correct_purpose = 'автомобиль' \n",
    "correct_purpose = 'автомобиль'\n",
    "replace_wrong_purpose(duplicates,correct_purpose)"
   ]
  },
  {
   "cell_type": "markdown",
   "id": "74efac8a",
   "metadata": {},
   "source": [
    "Объединим кредиты, связанные с образованием:"
   ]
  },
  {
   "cell_type": "code",
   "execution_count": 28,
   "id": "a488e0dd",
   "metadata": {},
   "outputs": [],
   "source": [
    "duplicates = ['заняться высшим образованием','дополнительное образование','высшее образование','получение образования','заняться образованием','профильное образование','получение высшего образования','получение дополнительного образования','образование ']\n",
    "correct_purpose = 'образование' \n",
    "replace_wrong_purpose(duplicates,correct_purpose)"
   ]
  },
  {
   "cell_type": "markdown",
   "id": "0fde9946",
   "metadata": {},
   "source": [
    "Проверим, какие значения остались"
   ]
  },
  {
   "cell_type": "code",
   "execution_count": 29,
   "id": "3395fffc",
   "metadata": {},
   "outputs": [
    {
     "data": {
      "text/plain": [
       "недвижимость    10754\n",
       "автомобиль       4281\n",
       "образование      3989\n",
       "свадьба          2324\n",
       "Name: purpose, dtype: int64"
      ]
     },
     "execution_count": 29,
     "metadata": {},
     "output_type": "execute_result"
    }
   ],
   "source": [
    "df['purpose'].value_counts()"
   ]
  },
  {
   "cell_type": "markdown",
   "id": "16f555dd",
   "metadata": {},
   "source": [
    "### Формирование дополнительных датафреймов словарей, декомпозиция исходного датафрейма."
   ]
  },
  {
   "cell_type": "markdown",
   "id": "34c84eb6",
   "metadata": {},
   "source": [
    "Создадим новый датафрейм, в котором  каждому уникальному значению из education соответствует уникальное значение education_id"
   ]
  },
  {
   "cell_type": "code",
   "execution_count": 30,
   "id": "a211b9e1",
   "metadata": {},
   "outputs": [],
   "source": [
    "education_dict = df[['education','education_id']]\n"
   ]
  },
  {
   "cell_type": "markdown",
   "id": "05825227",
   "metadata": {},
   "source": [
    "Создадим новый датафрейм, в котором каждому уникальному значению из family_status соответствует уникальное значение family_status_id "
   ]
  },
  {
   "cell_type": "code",
   "execution_count": 31,
   "id": "9a3bde38",
   "metadata": {},
   "outputs": [],
   "source": [
    "family_dict = df[['family_status','family_status_id']]\n"
   ]
  },
  {
   "cell_type": "markdown",
   "id": "8bc13efc",
   "metadata": {},
   "source": [
    "Удалим из исходного датафрейма столбцы education и family_status, оставив только их идентификаторы: education_id и family_status_id. "
   ]
  },
  {
   "cell_type": "code",
   "execution_count": 32,
   "id": "c1db49a8",
   "metadata": {},
   "outputs": [],
   "source": [
    "df = df[['children','days_employed','dob_years','education_id', 'family_status_id','gender','income_type','debt','total_income','purpose']]"
   ]
  },
  {
   "cell_type": "code",
   "execution_count": 33,
   "id": "dcfad995",
   "metadata": {},
   "outputs": [
    {
     "data": {
      "text/html": [
       "<div>\n",
       "<style scoped>\n",
       "    .dataframe tbody tr th:only-of-type {\n",
       "        vertical-align: middle;\n",
       "    }\n",
       "\n",
       "    .dataframe tbody tr th {\n",
       "        vertical-align: top;\n",
       "    }\n",
       "\n",
       "    .dataframe thead th {\n",
       "        text-align: right;\n",
       "    }\n",
       "</style>\n",
       "<table border=\"1\" class=\"dataframe\">\n",
       "  <thead>\n",
       "    <tr style=\"text-align: right;\">\n",
       "      <th></th>\n",
       "      <th>children</th>\n",
       "      <th>days_employed</th>\n",
       "      <th>dob_years</th>\n",
       "      <th>education_id</th>\n",
       "      <th>family_status_id</th>\n",
       "      <th>gender</th>\n",
       "      <th>income_type</th>\n",
       "      <th>debt</th>\n",
       "      <th>total_income</th>\n",
       "      <th>purpose</th>\n",
       "    </tr>\n",
       "  </thead>\n",
       "  <tbody>\n",
       "    <tr>\n",
       "      <th>0</th>\n",
       "      <td>1</td>\n",
       "      <td>8437.673028</td>\n",
       "      <td>42</td>\n",
       "      <td>0</td>\n",
       "      <td>0</td>\n",
       "      <td>F</td>\n",
       "      <td>сотрудник</td>\n",
       "      <td>0</td>\n",
       "      <td>253875</td>\n",
       "      <td>недвижимость</td>\n",
       "    </tr>\n",
       "    <tr>\n",
       "      <th>1</th>\n",
       "      <td>1</td>\n",
       "      <td>4024.803754</td>\n",
       "      <td>36</td>\n",
       "      <td>1</td>\n",
       "      <td>0</td>\n",
       "      <td>F</td>\n",
       "      <td>сотрудник</td>\n",
       "      <td>0</td>\n",
       "      <td>112080</td>\n",
       "      <td>автомобиль</td>\n",
       "    </tr>\n",
       "    <tr>\n",
       "      <th>2</th>\n",
       "      <td>0</td>\n",
       "      <td>5623.422610</td>\n",
       "      <td>33</td>\n",
       "      <td>1</td>\n",
       "      <td>0</td>\n",
       "      <td>M</td>\n",
       "      <td>сотрудник</td>\n",
       "      <td>0</td>\n",
       "      <td>145885</td>\n",
       "      <td>недвижимость</td>\n",
       "    </tr>\n",
       "    <tr>\n",
       "      <th>3</th>\n",
       "      <td>3</td>\n",
       "      <td>4124.747207</td>\n",
       "      <td>32</td>\n",
       "      <td>1</td>\n",
       "      <td>0</td>\n",
       "      <td>M</td>\n",
       "      <td>сотрудник</td>\n",
       "      <td>0</td>\n",
       "      <td>267628</td>\n",
       "      <td>образование</td>\n",
       "    </tr>\n",
       "    <tr>\n",
       "      <th>4</th>\n",
       "      <td>0</td>\n",
       "      <td>340266.072047</td>\n",
       "      <td>53</td>\n",
       "      <td>1</td>\n",
       "      <td>1</td>\n",
       "      <td>F</td>\n",
       "      <td>пенсионер</td>\n",
       "      <td>0</td>\n",
       "      <td>158616</td>\n",
       "      <td>свадьба</td>\n",
       "    </tr>\n",
       "    <tr>\n",
       "      <th>5</th>\n",
       "      <td>0</td>\n",
       "      <td>926.185831</td>\n",
       "      <td>27</td>\n",
       "      <td>0</td>\n",
       "      <td>1</td>\n",
       "      <td>M</td>\n",
       "      <td>компаньон</td>\n",
       "      <td>0</td>\n",
       "      <td>255763</td>\n",
       "      <td>недвижимость</td>\n",
       "    </tr>\n",
       "    <tr>\n",
       "      <th>6</th>\n",
       "      <td>0</td>\n",
       "      <td>2879.202052</td>\n",
       "      <td>43</td>\n",
       "      <td>0</td>\n",
       "      <td>0</td>\n",
       "      <td>F</td>\n",
       "      <td>компаньон</td>\n",
       "      <td>0</td>\n",
       "      <td>240525</td>\n",
       "      <td>недвижимость</td>\n",
       "    </tr>\n",
       "    <tr>\n",
       "      <th>7</th>\n",
       "      <td>0</td>\n",
       "      <td>152.779569</td>\n",
       "      <td>50</td>\n",
       "      <td>1</td>\n",
       "      <td>0</td>\n",
       "      <td>M</td>\n",
       "      <td>сотрудник</td>\n",
       "      <td>0</td>\n",
       "      <td>135823</td>\n",
       "      <td>образование</td>\n",
       "    </tr>\n",
       "    <tr>\n",
       "      <th>8</th>\n",
       "      <td>2</td>\n",
       "      <td>6929.865299</td>\n",
       "      <td>35</td>\n",
       "      <td>0</td>\n",
       "      <td>1</td>\n",
       "      <td>F</td>\n",
       "      <td>сотрудник</td>\n",
       "      <td>0</td>\n",
       "      <td>95856</td>\n",
       "      <td>свадьба</td>\n",
       "    </tr>\n",
       "    <tr>\n",
       "      <th>9</th>\n",
       "      <td>0</td>\n",
       "      <td>2188.756445</td>\n",
       "      <td>41</td>\n",
       "      <td>1</td>\n",
       "      <td>0</td>\n",
       "      <td>M</td>\n",
       "      <td>сотрудник</td>\n",
       "      <td>0</td>\n",
       "      <td>144425</td>\n",
       "      <td>недвижимость</td>\n",
       "    </tr>\n",
       "  </tbody>\n",
       "</table>\n",
       "</div>"
      ],
      "text/plain": [
       "   children  days_employed  dob_years  education_id  family_status_id gender  \\\n",
       "0         1    8437.673028         42             0                 0      F   \n",
       "1         1    4024.803754         36             1                 0      F   \n",
       "2         0    5623.422610         33             1                 0      M   \n",
       "3         3    4124.747207         32             1                 0      M   \n",
       "4         0  340266.072047         53             1                 1      F   \n",
       "5         0     926.185831         27             0                 1      M   \n",
       "6         0    2879.202052         43             0                 0      F   \n",
       "7         0     152.779569         50             1                 0      M   \n",
       "8         2    6929.865299         35             0                 1      F   \n",
       "9         0    2188.756445         41             1                 0      M   \n",
       "\n",
       "  income_type  debt  total_income       purpose  \n",
       "0   сотрудник     0        253875  недвижимость  \n",
       "1   сотрудник     0        112080    автомобиль  \n",
       "2   сотрудник     0        145885  недвижимость  \n",
       "3   сотрудник     0        267628   образование  \n",
       "4   пенсионер     0        158616       свадьба  \n",
       "5   компаньон     0        255763  недвижимость  \n",
       "6   компаньон     0        240525  недвижимость  \n",
       "7   сотрудник     0        135823   образование  \n",
       "8   сотрудник     0         95856       свадьба  \n",
       "9   сотрудник     0        144425  недвижимость  "
      ]
     },
     "execution_count": 33,
     "metadata": {},
     "output_type": "execute_result"
    }
   ],
   "source": [
    "df.head(10)"
   ]
  },
  {
   "cell_type": "markdown",
   "id": "53876311",
   "metadata": {},
   "source": [
    "### Категоризация дохода."
   ]
  },
  {
   "cell_type": "markdown",
   "id": "956cde47",
   "metadata": {},
   "source": [
    "Создадим столбец total_income_category с категориями:\n",
    "0–30000 — 'E';\n",
    "30001–50000 — 'D';\n",
    "50001–200000 — 'C';\n",
    "200001–1000000 — 'B';\n",
    "1000001 и выше — 'A'."
   ]
  },
  {
   "cell_type": "code",
   "execution_count": 34,
   "id": "51c174d2",
   "metadata": {},
   "outputs": [],
   "source": [
    "def total_income_category(total_income):\n",
    "    if total_income <= 30000:\n",
    "        return 'E'\n",
    "    if 30001 <= total_income <= 50000:\n",
    "        return 'D'\n",
    "    if 50001 <= total_income <= 200000:\n",
    "        return 'C'\n",
    "    if 200001 <= total_income <= 1000000:\n",
    "        return 'B'\n",
    "    return 'A' "
   ]
  },
  {
   "cell_type": "code",
   "execution_count": 35,
   "id": "f08c24c1",
   "metadata": {},
   "outputs": [
    {
     "data": {
      "text/html": [
       "<div>\n",
       "<style scoped>\n",
       "    .dataframe tbody tr th:only-of-type {\n",
       "        vertical-align: middle;\n",
       "    }\n",
       "\n",
       "    .dataframe tbody tr th {\n",
       "        vertical-align: top;\n",
       "    }\n",
       "\n",
       "    .dataframe thead th {\n",
       "        text-align: right;\n",
       "    }\n",
       "</style>\n",
       "<table border=\"1\" class=\"dataframe\">\n",
       "  <thead>\n",
       "    <tr style=\"text-align: right;\">\n",
       "      <th></th>\n",
       "      <th>children</th>\n",
       "      <th>days_employed</th>\n",
       "      <th>dob_years</th>\n",
       "      <th>education_id</th>\n",
       "      <th>family_status_id</th>\n",
       "      <th>gender</th>\n",
       "      <th>income_type</th>\n",
       "      <th>debt</th>\n",
       "      <th>total_income</th>\n",
       "      <th>purpose</th>\n",
       "      <th>total_income_category</th>\n",
       "    </tr>\n",
       "  </thead>\n",
       "  <tbody>\n",
       "    <tr>\n",
       "      <th>0</th>\n",
       "      <td>1</td>\n",
       "      <td>8437.673028</td>\n",
       "      <td>42</td>\n",
       "      <td>0</td>\n",
       "      <td>0</td>\n",
       "      <td>F</td>\n",
       "      <td>сотрудник</td>\n",
       "      <td>0</td>\n",
       "      <td>253875</td>\n",
       "      <td>недвижимость</td>\n",
       "      <td>B</td>\n",
       "    </tr>\n",
       "    <tr>\n",
       "      <th>1</th>\n",
       "      <td>1</td>\n",
       "      <td>4024.803754</td>\n",
       "      <td>36</td>\n",
       "      <td>1</td>\n",
       "      <td>0</td>\n",
       "      <td>F</td>\n",
       "      <td>сотрудник</td>\n",
       "      <td>0</td>\n",
       "      <td>112080</td>\n",
       "      <td>автомобиль</td>\n",
       "      <td>C</td>\n",
       "    </tr>\n",
       "    <tr>\n",
       "      <th>2</th>\n",
       "      <td>0</td>\n",
       "      <td>5623.422610</td>\n",
       "      <td>33</td>\n",
       "      <td>1</td>\n",
       "      <td>0</td>\n",
       "      <td>M</td>\n",
       "      <td>сотрудник</td>\n",
       "      <td>0</td>\n",
       "      <td>145885</td>\n",
       "      <td>недвижимость</td>\n",
       "      <td>C</td>\n",
       "    </tr>\n",
       "    <tr>\n",
       "      <th>3</th>\n",
       "      <td>3</td>\n",
       "      <td>4124.747207</td>\n",
       "      <td>32</td>\n",
       "      <td>1</td>\n",
       "      <td>0</td>\n",
       "      <td>M</td>\n",
       "      <td>сотрудник</td>\n",
       "      <td>0</td>\n",
       "      <td>267628</td>\n",
       "      <td>образование</td>\n",
       "      <td>B</td>\n",
       "    </tr>\n",
       "    <tr>\n",
       "      <th>4</th>\n",
       "      <td>0</td>\n",
       "      <td>340266.072047</td>\n",
       "      <td>53</td>\n",
       "      <td>1</td>\n",
       "      <td>1</td>\n",
       "      <td>F</td>\n",
       "      <td>пенсионер</td>\n",
       "      <td>0</td>\n",
       "      <td>158616</td>\n",
       "      <td>свадьба</td>\n",
       "      <td>C</td>\n",
       "    </tr>\n",
       "    <tr>\n",
       "      <th>5</th>\n",
       "      <td>0</td>\n",
       "      <td>926.185831</td>\n",
       "      <td>27</td>\n",
       "      <td>0</td>\n",
       "      <td>1</td>\n",
       "      <td>M</td>\n",
       "      <td>компаньон</td>\n",
       "      <td>0</td>\n",
       "      <td>255763</td>\n",
       "      <td>недвижимость</td>\n",
       "      <td>B</td>\n",
       "    </tr>\n",
       "    <tr>\n",
       "      <th>6</th>\n",
       "      <td>0</td>\n",
       "      <td>2879.202052</td>\n",
       "      <td>43</td>\n",
       "      <td>0</td>\n",
       "      <td>0</td>\n",
       "      <td>F</td>\n",
       "      <td>компаньон</td>\n",
       "      <td>0</td>\n",
       "      <td>240525</td>\n",
       "      <td>недвижимость</td>\n",
       "      <td>B</td>\n",
       "    </tr>\n",
       "    <tr>\n",
       "      <th>7</th>\n",
       "      <td>0</td>\n",
       "      <td>152.779569</td>\n",
       "      <td>50</td>\n",
       "      <td>1</td>\n",
       "      <td>0</td>\n",
       "      <td>M</td>\n",
       "      <td>сотрудник</td>\n",
       "      <td>0</td>\n",
       "      <td>135823</td>\n",
       "      <td>образование</td>\n",
       "      <td>C</td>\n",
       "    </tr>\n",
       "    <tr>\n",
       "      <th>8</th>\n",
       "      <td>2</td>\n",
       "      <td>6929.865299</td>\n",
       "      <td>35</td>\n",
       "      <td>0</td>\n",
       "      <td>1</td>\n",
       "      <td>F</td>\n",
       "      <td>сотрудник</td>\n",
       "      <td>0</td>\n",
       "      <td>95856</td>\n",
       "      <td>свадьба</td>\n",
       "      <td>C</td>\n",
       "    </tr>\n",
       "    <tr>\n",
       "      <th>9</th>\n",
       "      <td>0</td>\n",
       "      <td>2188.756445</td>\n",
       "      <td>41</td>\n",
       "      <td>1</td>\n",
       "      <td>0</td>\n",
       "      <td>M</td>\n",
       "      <td>сотрудник</td>\n",
       "      <td>0</td>\n",
       "      <td>144425</td>\n",
       "      <td>недвижимость</td>\n",
       "      <td>C</td>\n",
       "    </tr>\n",
       "    <tr>\n",
       "      <th>10</th>\n",
       "      <td>2</td>\n",
       "      <td>4171.483647</td>\n",
       "      <td>36</td>\n",
       "      <td>0</td>\n",
       "      <td>0</td>\n",
       "      <td>M</td>\n",
       "      <td>компаньон</td>\n",
       "      <td>0</td>\n",
       "      <td>113943</td>\n",
       "      <td>недвижимость</td>\n",
       "      <td>C</td>\n",
       "    </tr>\n",
       "    <tr>\n",
       "      <th>11</th>\n",
       "      <td>0</td>\n",
       "      <td>792.701887</td>\n",
       "      <td>40</td>\n",
       "      <td>1</td>\n",
       "      <td>0</td>\n",
       "      <td>F</td>\n",
       "      <td>сотрудник</td>\n",
       "      <td>0</td>\n",
       "      <td>77069</td>\n",
       "      <td>недвижимость</td>\n",
       "      <td>C</td>\n",
       "    </tr>\n",
       "    <tr>\n",
       "      <th>12</th>\n",
       "      <td>0</td>\n",
       "      <td>2194.220567</td>\n",
       "      <td>65</td>\n",
       "      <td>1</td>\n",
       "      <td>1</td>\n",
       "      <td>M</td>\n",
       "      <td>пенсионер</td>\n",
       "      <td>0</td>\n",
       "      <td>118514</td>\n",
       "      <td>свадьба</td>\n",
       "      <td>C</td>\n",
       "    </tr>\n",
       "    <tr>\n",
       "      <th>13</th>\n",
       "      <td>0</td>\n",
       "      <td>1846.641941</td>\n",
       "      <td>54</td>\n",
       "      <td>2</td>\n",
       "      <td>0</td>\n",
       "      <td>F</td>\n",
       "      <td>сотрудник</td>\n",
       "      <td>0</td>\n",
       "      <td>130458</td>\n",
       "      <td>автомобиль</td>\n",
       "      <td>C</td>\n",
       "    </tr>\n",
       "    <tr>\n",
       "      <th>14</th>\n",
       "      <td>0</td>\n",
       "      <td>1844.956182</td>\n",
       "      <td>56</td>\n",
       "      <td>0</td>\n",
       "      <td>1</td>\n",
       "      <td>F</td>\n",
       "      <td>компаньон</td>\n",
       "      <td>1</td>\n",
       "      <td>165127</td>\n",
       "      <td>недвижимость</td>\n",
       "      <td>C</td>\n",
       "    </tr>\n",
       "    <tr>\n",
       "      <th>15</th>\n",
       "      <td>1</td>\n",
       "      <td>972.364419</td>\n",
       "      <td>26</td>\n",
       "      <td>1</td>\n",
       "      <td>0</td>\n",
       "      <td>F</td>\n",
       "      <td>сотрудник</td>\n",
       "      <td>0</td>\n",
       "      <td>116820</td>\n",
       "      <td>недвижимость</td>\n",
       "      <td>C</td>\n",
       "    </tr>\n",
       "    <tr>\n",
       "      <th>16</th>\n",
       "      <td>0</td>\n",
       "      <td>1719.934226</td>\n",
       "      <td>35</td>\n",
       "      <td>1</td>\n",
       "      <td>0</td>\n",
       "      <td>F</td>\n",
       "      <td>сотрудник</td>\n",
       "      <td>0</td>\n",
       "      <td>289202</td>\n",
       "      <td>недвижимость</td>\n",
       "      <td>B</td>\n",
       "    </tr>\n",
       "    <tr>\n",
       "      <th>17</th>\n",
       "      <td>0</td>\n",
       "      <td>2369.999720</td>\n",
       "      <td>33</td>\n",
       "      <td>0</td>\n",
       "      <td>1</td>\n",
       "      <td>M</td>\n",
       "      <td>сотрудник</td>\n",
       "      <td>0</td>\n",
       "      <td>90410</td>\n",
       "      <td>недвижимость</td>\n",
       "      <td>C</td>\n",
       "    </tr>\n",
       "    <tr>\n",
       "      <th>18</th>\n",
       "      <td>0</td>\n",
       "      <td>400281.136913</td>\n",
       "      <td>53</td>\n",
       "      <td>1</td>\n",
       "      <td>2</td>\n",
       "      <td>F</td>\n",
       "      <td>пенсионер</td>\n",
       "      <td>0</td>\n",
       "      <td>56823</td>\n",
       "      <td>автомобиль</td>\n",
       "      <td>C</td>\n",
       "    </tr>\n",
       "    <tr>\n",
       "      <th>19</th>\n",
       "      <td>0</td>\n",
       "      <td>10038.818549</td>\n",
       "      <td>48</td>\n",
       "      <td>1</td>\n",
       "      <td>3</td>\n",
       "      <td>F</td>\n",
       "      <td>сотрудник</td>\n",
       "      <td>0</td>\n",
       "      <td>242831</td>\n",
       "      <td>автомобиль</td>\n",
       "      <td>B</td>\n",
       "    </tr>\n",
       "    <tr>\n",
       "      <th>20</th>\n",
       "      <td>1</td>\n",
       "      <td>1311.604166</td>\n",
       "      <td>36</td>\n",
       "      <td>1</td>\n",
       "      <td>0</td>\n",
       "      <td>M</td>\n",
       "      <td>сотрудник</td>\n",
       "      <td>0</td>\n",
       "      <td>209552</td>\n",
       "      <td>недвижимость</td>\n",
       "      <td>B</td>\n",
       "    </tr>\n",
       "    <tr>\n",
       "      <th>21</th>\n",
       "      <td>1</td>\n",
       "      <td>253.685166</td>\n",
       "      <td>33</td>\n",
       "      <td>1</td>\n",
       "      <td>1</td>\n",
       "      <td>F</td>\n",
       "      <td>сотрудник</td>\n",
       "      <td>0</td>\n",
       "      <td>131812</td>\n",
       "      <td>автомобиль</td>\n",
       "      <td>C</td>\n",
       "    </tr>\n",
       "    <tr>\n",
       "      <th>22</th>\n",
       "      <td>1</td>\n",
       "      <td>1766.644138</td>\n",
       "      <td>24</td>\n",
       "      <td>1</td>\n",
       "      <td>1</td>\n",
       "      <td>F</td>\n",
       "      <td>сотрудник</td>\n",
       "      <td>0</td>\n",
       "      <td>149681</td>\n",
       "      <td>автомобиль</td>\n",
       "      <td>C</td>\n",
       "    </tr>\n",
       "    <tr>\n",
       "      <th>23</th>\n",
       "      <td>0</td>\n",
       "      <td>272.981385</td>\n",
       "      <td>21</td>\n",
       "      <td>0</td>\n",
       "      <td>1</td>\n",
       "      <td>M</td>\n",
       "      <td>сотрудник</td>\n",
       "      <td>0</td>\n",
       "      <td>128265</td>\n",
       "      <td>свадьба</td>\n",
       "      <td>C</td>\n",
       "    </tr>\n",
       "    <tr>\n",
       "      <th>24</th>\n",
       "      <td>1</td>\n",
       "      <td>338551.952911</td>\n",
       "      <td>57</td>\n",
       "      <td>1</td>\n",
       "      <td>4</td>\n",
       "      <td>F</td>\n",
       "      <td>пенсионер</td>\n",
       "      <td>0</td>\n",
       "      <td>290547</td>\n",
       "      <td>недвижимость</td>\n",
       "      <td>B</td>\n",
       "    </tr>\n",
       "    <tr>\n",
       "      <th>25</th>\n",
       "      <td>0</td>\n",
       "      <td>363548.489348</td>\n",
       "      <td>67</td>\n",
       "      <td>1</td>\n",
       "      <td>0</td>\n",
       "      <td>M</td>\n",
       "      <td>пенсионер</td>\n",
       "      <td>0</td>\n",
       "      <td>55112</td>\n",
       "      <td>недвижимость</td>\n",
       "      <td>C</td>\n",
       "    </tr>\n",
       "    <tr>\n",
       "      <th>26</th>\n",
       "      <td>0</td>\n",
       "      <td>2194.220567</td>\n",
       "      <td>41</td>\n",
       "      <td>1</td>\n",
       "      <td>0</td>\n",
       "      <td>M</td>\n",
       "      <td>госслужащий</td>\n",
       "      <td>0</td>\n",
       "      <td>150447</td>\n",
       "      <td>образование</td>\n",
       "      <td>C</td>\n",
       "    </tr>\n",
       "    <tr>\n",
       "      <th>27</th>\n",
       "      <td>0</td>\n",
       "      <td>529.191635</td>\n",
       "      <td>28</td>\n",
       "      <td>0</td>\n",
       "      <td>0</td>\n",
       "      <td>M</td>\n",
       "      <td>сотрудник</td>\n",
       "      <td>0</td>\n",
       "      <td>308848</td>\n",
       "      <td>недвижимость</td>\n",
       "      <td>B</td>\n",
       "    </tr>\n",
       "    <tr>\n",
       "      <th>28</th>\n",
       "      <td>1</td>\n",
       "      <td>717.274324</td>\n",
       "      <td>26</td>\n",
       "      <td>0</td>\n",
       "      <td>0</td>\n",
       "      <td>F</td>\n",
       "      <td>сотрудник</td>\n",
       "      <td>0</td>\n",
       "      <td>187863</td>\n",
       "      <td>недвижимость</td>\n",
       "      <td>C</td>\n",
       "    </tr>\n",
       "    <tr>\n",
       "      <th>29</th>\n",
       "      <td>0</td>\n",
       "      <td>2194.220567</td>\n",
       "      <td>63</td>\n",
       "      <td>1</td>\n",
       "      <td>4</td>\n",
       "      <td>F</td>\n",
       "      <td>пенсионер</td>\n",
       "      <td>0</td>\n",
       "      <td>118514</td>\n",
       "      <td>недвижимость</td>\n",
       "      <td>C</td>\n",
       "    </tr>\n",
       "  </tbody>\n",
       "</table>\n",
       "</div>"
      ],
      "text/plain": [
       "    children  days_employed  dob_years  education_id  family_status_id gender  \\\n",
       "0          1    8437.673028         42             0                 0      F   \n",
       "1          1    4024.803754         36             1                 0      F   \n",
       "2          0    5623.422610         33             1                 0      M   \n",
       "3          3    4124.747207         32             1                 0      M   \n",
       "4          0  340266.072047         53             1                 1      F   \n",
       "5          0     926.185831         27             0                 1      M   \n",
       "6          0    2879.202052         43             0                 0      F   \n",
       "7          0     152.779569         50             1                 0      M   \n",
       "8          2    6929.865299         35             0                 1      F   \n",
       "9          0    2188.756445         41             1                 0      M   \n",
       "10         2    4171.483647         36             0                 0      M   \n",
       "11         0     792.701887         40             1                 0      F   \n",
       "12         0    2194.220567         65             1                 1      M   \n",
       "13         0    1846.641941         54             2                 0      F   \n",
       "14         0    1844.956182         56             0                 1      F   \n",
       "15         1     972.364419         26             1                 0      F   \n",
       "16         0    1719.934226         35             1                 0      F   \n",
       "17         0    2369.999720         33             0                 1      M   \n",
       "18         0  400281.136913         53             1                 2      F   \n",
       "19         0   10038.818549         48             1                 3      F   \n",
       "20         1    1311.604166         36             1                 0      M   \n",
       "21         1     253.685166         33             1                 1      F   \n",
       "22         1    1766.644138         24             1                 1      F   \n",
       "23         0     272.981385         21             0                 1      M   \n",
       "24         1  338551.952911         57             1                 4      F   \n",
       "25         0  363548.489348         67             1                 0      M   \n",
       "26         0    2194.220567         41             1                 0      M   \n",
       "27         0     529.191635         28             0                 0      M   \n",
       "28         1     717.274324         26             0                 0      F   \n",
       "29         0    2194.220567         63             1                 4      F   \n",
       "\n",
       "    income_type  debt  total_income       purpose total_income_category  \n",
       "0     сотрудник     0        253875  недвижимость                     B  \n",
       "1     сотрудник     0        112080    автомобиль                     C  \n",
       "2     сотрудник     0        145885  недвижимость                     C  \n",
       "3     сотрудник     0        267628   образование                     B  \n",
       "4     пенсионер     0        158616       свадьба                     C  \n",
       "5     компаньон     0        255763  недвижимость                     B  \n",
       "6     компаньон     0        240525  недвижимость                     B  \n",
       "7     сотрудник     0        135823   образование                     C  \n",
       "8     сотрудник     0         95856       свадьба                     C  \n",
       "9     сотрудник     0        144425  недвижимость                     C  \n",
       "10    компаньон     0        113943  недвижимость                     C  \n",
       "11    сотрудник     0         77069  недвижимость                     C  \n",
       "12    пенсионер     0        118514       свадьба                     C  \n",
       "13    сотрудник     0        130458    автомобиль                     C  \n",
       "14    компаньон     1        165127  недвижимость                     C  \n",
       "15    сотрудник     0        116820  недвижимость                     C  \n",
       "16    сотрудник     0        289202  недвижимость                     B  \n",
       "17    сотрудник     0         90410  недвижимость                     C  \n",
       "18    пенсионер     0         56823    автомобиль                     C  \n",
       "19    сотрудник     0        242831    автомобиль                     B  \n",
       "20    сотрудник     0        209552  недвижимость                     B  \n",
       "21    сотрудник     0        131812    автомобиль                     C  \n",
       "22    сотрудник     0        149681    автомобиль                     C  \n",
       "23    сотрудник     0        128265       свадьба                     C  \n",
       "24    пенсионер     0        290547  недвижимость                     B  \n",
       "25    пенсионер     0         55112  недвижимость                     C  \n",
       "26  госслужащий     0        150447   образование                     C  \n",
       "27    сотрудник     0        308848  недвижимость                     B  \n",
       "28    сотрудник     0        187863  недвижимость                     C  \n",
       "29    пенсионер     0        118514  недвижимость                     C  "
      ]
     },
     "execution_count": 35,
     "metadata": {},
     "output_type": "execute_result"
    }
   ],
   "source": [
    "df['total_income_category'] = df['total_income'].apply(total_income_category)\n",
    "df.head(30)"
   ]
  },
  {
   "cell_type": "markdown",
   "id": "d2c40d01",
   "metadata": {},
   "source": [
    "### Обстоятельство и задолженность."
   ]
  },
  {
   "cell_type": "markdown",
   "id": "1d7e3797",
   "metadata": {},
   "source": [
    "Проверим, как семейное положение влиияет на задолженность.\n"
   ]
  },
  {
   "cell_type": "code",
   "execution_count": 36,
   "id": "afd25e6e",
   "metadata": {},
   "outputs": [
    {
     "data": {
      "text/html": [
       "<div>\n",
       "<style scoped>\n",
       "    .dataframe tbody tr th:only-of-type {\n",
       "        vertical-align: middle;\n",
       "    }\n",
       "\n",
       "    .dataframe tbody tr th {\n",
       "        vertical-align: top;\n",
       "    }\n",
       "\n",
       "    .dataframe thead th {\n",
       "        text-align: right;\n",
       "    }\n",
       "</style>\n",
       "<table border=\"1\" class=\"dataframe\">\n",
       "  <thead>\n",
       "    <tr style=\"text-align: right;\">\n",
       "      <th>debt</th>\n",
       "      <th>0</th>\n",
       "      <th>1</th>\n",
       "      <th>share</th>\n",
       "    </tr>\n",
       "    <tr>\n",
       "      <th>family_status_id</th>\n",
       "      <th></th>\n",
       "      <th></th>\n",
       "      <th></th>\n",
       "    </tr>\n",
       "  </thead>\n",
       "  <tbody>\n",
       "    <tr>\n",
       "      <th>0</th>\n",
       "      <td>11339</td>\n",
       "      <td>927</td>\n",
       "      <td>7.56</td>\n",
       "    </tr>\n",
       "    <tr>\n",
       "      <th>1</th>\n",
       "      <td>3761</td>\n",
       "      <td>385</td>\n",
       "      <td>9.29</td>\n",
       "    </tr>\n",
       "    <tr>\n",
       "      <th>2</th>\n",
       "      <td>888</td>\n",
       "      <td>63</td>\n",
       "      <td>6.62</td>\n",
       "    </tr>\n",
       "    <tr>\n",
       "      <th>3</th>\n",
       "      <td>1105</td>\n",
       "      <td>84</td>\n",
       "      <td>7.06</td>\n",
       "    </tr>\n",
       "    <tr>\n",
       "      <th>4</th>\n",
       "      <td>2523</td>\n",
       "      <td>273</td>\n",
       "      <td>9.76</td>\n",
       "    </tr>\n",
       "  </tbody>\n",
       "</table>\n",
       "</div>"
      ],
      "text/plain": [
       "debt                  0    1  share\n",
       "family_status_id                   \n",
       "0                 11339  927   7.56\n",
       "1                  3761  385   9.29\n",
       "2                   888   63   6.62\n",
       "3                  1105   84   7.06\n",
       "4                  2523  273   9.76"
      ]
     },
     "execution_count": 36,
     "metadata": {},
     "output_type": "execute_result"
    }
   ],
   "source": [
    "pvt_family = pd.pivot_table(df, index = 'family_status_id', columns = 'debt', values = 'dob_years', aggfunc ='count')\n",
    "pvt_family['share'] =(pvt_family[1]/ (pvt_family[0]+pvt_family[1])*100).round(2)\n",
    "pvt_family "
   ]
  },
  {
   "cell_type": "markdown",
   "id": "881de7f6",
   "metadata": {},
   "source": [
    "Чаще остальных с выплатой кредитов проблемы у двух категорий - гражданский брак и не женат/не замужем. Лучше всех с выплатой кредитов у категории вдовец/вдова и женат/замужем."
   ]
  },
  {
   "cell_type": "markdown",
   "id": "11968fb5",
   "metadata": {},
   "source": [
    "Проверим, как дети влиияют на задолженность."
   ]
  },
  {
   "cell_type": "code",
   "execution_count": 37,
   "id": "562562be",
   "metadata": {},
   "outputs": [
    {
     "data": {
      "text/html": [
       "<div>\n",
       "<style scoped>\n",
       "    .dataframe tbody tr th:only-of-type {\n",
       "        vertical-align: middle;\n",
       "    }\n",
       "\n",
       "    .dataframe tbody tr th {\n",
       "        vertical-align: top;\n",
       "    }\n",
       "\n",
       "    .dataframe thead th {\n",
       "        text-align: right;\n",
       "    }\n",
       "</style>\n",
       "<table border=\"1\" class=\"dataframe\">\n",
       "  <thead>\n",
       "    <tr style=\"text-align: right;\">\n",
       "      <th>debt</th>\n",
       "      <th>0</th>\n",
       "      <th>1</th>\n",
       "      <th>share</th>\n",
       "    </tr>\n",
       "    <tr>\n",
       "      <th>children</th>\n",
       "      <th></th>\n",
       "      <th></th>\n",
       "      <th></th>\n",
       "    </tr>\n",
       "  </thead>\n",
       "  <tbody>\n",
       "    <tr>\n",
       "      <th>0</th>\n",
       "      <td>13044.0</td>\n",
       "      <td>1063.0</td>\n",
       "      <td>7.54</td>\n",
       "    </tr>\n",
       "    <tr>\n",
       "      <th>1</th>\n",
       "      <td>4365.0</td>\n",
       "      <td>444.0</td>\n",
       "      <td>9.23</td>\n",
       "    </tr>\n",
       "    <tr>\n",
       "      <th>2</th>\n",
       "      <td>1858.0</td>\n",
       "      <td>194.0</td>\n",
       "      <td>9.45</td>\n",
       "    </tr>\n",
       "    <tr>\n",
       "      <th>3</th>\n",
       "      <td>303.0</td>\n",
       "      <td>27.0</td>\n",
       "      <td>8.18</td>\n",
       "    </tr>\n",
       "    <tr>\n",
       "      <th>4</th>\n",
       "      <td>37.0</td>\n",
       "      <td>4.0</td>\n",
       "      <td>9.76</td>\n",
       "    </tr>\n",
       "    <tr>\n",
       "      <th>5</th>\n",
       "      <td>9.0</td>\n",
       "      <td>NaN</td>\n",
       "      <td>NaN</td>\n",
       "    </tr>\n",
       "  </tbody>\n",
       "</table>\n",
       "</div>"
      ],
      "text/plain": [
       "debt            0       1  share\n",
       "children                        \n",
       "0         13044.0  1063.0   7.54\n",
       "1          4365.0   444.0   9.23\n",
       "2          1858.0   194.0   9.45\n",
       "3           303.0    27.0   8.18\n",
       "4            37.0     4.0   9.76\n",
       "5             9.0     NaN    NaN"
      ]
     },
     "execution_count": 37,
     "metadata": {},
     "output_type": "execute_result"
    }
   ],
   "source": [
    "pvt_children = pd.pivot_table(df,index ='' 'children',columns = 'debt', values ='dob_years',aggfunc ='count')\n",
    "pvt_children['share'] =(pvt_children[1]/ (pvt_children[0]+pvt_children[1])*100).round(2)\n",
    "pvt_children "
   ]
  },
  {
   "cell_type": "markdown",
   "id": "b453a04a",
   "metadata": {},
   "source": [
    "Лучше всего возвращают кредиты заемщики без детей"
   ]
  },
  {
   "cell_type": "markdown",
   "id": "1e2216e0",
   "metadata": {},
   "source": [
    "Прверим вероятность возврата кредита в срок в зависимости от уровня дохода клиента.\n"
   ]
  },
  {
   "cell_type": "code",
   "execution_count": 38,
   "id": "b7546297",
   "metadata": {},
   "outputs": [
    {
     "data": {
      "text/html": [
       "<div>\n",
       "<style scoped>\n",
       "    .dataframe tbody tr th:only-of-type {\n",
       "        vertical-align: middle;\n",
       "    }\n",
       "\n",
       "    .dataframe tbody tr th {\n",
       "        vertical-align: top;\n",
       "    }\n",
       "\n",
       "    .dataframe thead th {\n",
       "        text-align: right;\n",
       "    }\n",
       "</style>\n",
       "<table border=\"1\" class=\"dataframe\">\n",
       "  <thead>\n",
       "    <tr style=\"text-align: right;\">\n",
       "      <th>debt</th>\n",
       "      <th>0</th>\n",
       "      <th>1</th>\n",
       "      <th>share</th>\n",
       "    </tr>\n",
       "    <tr>\n",
       "      <th>total_income_category</th>\n",
       "      <th></th>\n",
       "      <th></th>\n",
       "      <th></th>\n",
       "    </tr>\n",
       "  </thead>\n",
       "  <tbody>\n",
       "    <tr>\n",
       "      <th>A</th>\n",
       "      <td>23</td>\n",
       "      <td>2</td>\n",
       "      <td>8.00</td>\n",
       "    </tr>\n",
       "    <tr>\n",
       "      <th>B</th>\n",
       "      <td>4660</td>\n",
       "      <td>354</td>\n",
       "      <td>7.06</td>\n",
       "    </tr>\n",
       "    <tr>\n",
       "      <th>C</th>\n",
       "      <td>14585</td>\n",
       "      <td>1353</td>\n",
       "      <td>8.49</td>\n",
       "    </tr>\n",
       "    <tr>\n",
       "      <th>D</th>\n",
       "      <td>328</td>\n",
       "      <td>21</td>\n",
       "      <td>6.02</td>\n",
       "    </tr>\n",
       "    <tr>\n",
       "      <th>E</th>\n",
       "      <td>20</td>\n",
       "      <td>2</td>\n",
       "      <td>9.09</td>\n",
       "    </tr>\n",
       "  </tbody>\n",
       "</table>\n",
       "</div>"
      ],
      "text/plain": [
       "debt                       0     1  share\n",
       "total_income_category                    \n",
       "A                         23     2   8.00\n",
       "B                       4660   354   7.06\n",
       "C                      14585  1353   8.49\n",
       "D                        328    21   6.02\n",
       "E                         20     2   9.09"
      ]
     },
     "execution_count": 38,
     "metadata": {},
     "output_type": "execute_result"
    }
   ],
   "source": [
    "pvt_income = pd.pivot_table(df,index = 'total_income_category',columns = 'debt', values ='dob_years',aggfunc ='count')\n",
    "pvt_income['share'] =(pvt_income[1]/ (pvt_income[0]+pvt_income[1])*100).round(2)\n",
    "pvt_income"
   ]
  },
  {
   "cell_type": "markdown",
   "id": "b7796d0b",
   "metadata": {},
   "source": [
    "Хуже всего кредиты выпалчивают заемщики, доход которых ниже 30 тыс в месяц. Лучше всего - клиенты, чей доход превышает составляи от 30 до 50 тыс ежемесячно. "
   ]
  },
  {
   "cell_type": "markdown",
   "id": "48e2ed7e",
   "metadata": {},
   "source": [
    "Как влияет цель:"
   ]
  },
  {
   "cell_type": "code",
   "execution_count": 39,
   "id": "d9fcfa20",
   "metadata": {},
   "outputs": [
    {
     "data": {
      "text/html": [
       "<div>\n",
       "<style scoped>\n",
       "    .dataframe tbody tr th:only-of-type {\n",
       "        vertical-align: middle;\n",
       "    }\n",
       "\n",
       "    .dataframe tbody tr th {\n",
       "        vertical-align: top;\n",
       "    }\n",
       "\n",
       "    .dataframe thead th {\n",
       "        text-align: right;\n",
       "    }\n",
       "</style>\n",
       "<table border=\"1\" class=\"dataframe\">\n",
       "  <thead>\n",
       "    <tr style=\"text-align: right;\">\n",
       "      <th>debt</th>\n",
       "      <th>0</th>\n",
       "      <th>1</th>\n",
       "      <th>share</th>\n",
       "    </tr>\n",
       "    <tr>\n",
       "      <th>purpose</th>\n",
       "      <th></th>\n",
       "      <th></th>\n",
       "      <th></th>\n",
       "    </tr>\n",
       "  </thead>\n",
       "  <tbody>\n",
       "    <tr>\n",
       "      <th>автомобиль</th>\n",
       "      <td>3881</td>\n",
       "      <td>400</td>\n",
       "      <td>9.34</td>\n",
       "    </tr>\n",
       "    <tr>\n",
       "      <th>недвижимость</th>\n",
       "      <td>9974</td>\n",
       "      <td>780</td>\n",
       "      <td>7.25</td>\n",
       "    </tr>\n",
       "    <tr>\n",
       "      <th>образование</th>\n",
       "      <td>3620</td>\n",
       "      <td>369</td>\n",
       "      <td>9.25</td>\n",
       "    </tr>\n",
       "    <tr>\n",
       "      <th>свадьба</th>\n",
       "      <td>2141</td>\n",
       "      <td>183</td>\n",
       "      <td>7.87</td>\n",
       "    </tr>\n",
       "  </tbody>\n",
       "</table>\n",
       "</div>"
      ],
      "text/plain": [
       "debt             0    1  share\n",
       "purpose                       \n",
       "автомобиль    3881  400   9.34\n",
       "недвижимость  9974  780   7.25\n",
       "образование   3620  369   9.25\n",
       "свадьба       2141  183   7.87"
      ]
     },
     "execution_count": 39,
     "metadata": {},
     "output_type": "execute_result"
    }
   ],
   "source": [
    "pvt_purpose = pd.pivot_table(df,index = 'purpose',columns = 'debt', values ='dob_years',aggfunc ='count')\n",
    "pvt_purpose['share'] =(pvt_purpose[1]/ (pvt_purpose[0]+pvt_purpose[1])*100).round(2)\n",
    "pvt_purpose"
   ]
  },
  {
   "cell_type": "markdown",
   "id": "792888d3",
   "metadata": {},
   "source": [
    "Кто берет кредит на свадьбу или на недвижимость чаще возвращают кредит, чем те, кто берет его на автомобиль или образование."
   ]
  },
  {
   "cell_type": "markdown",
   "id": "13a5cfed",
   "metadata": {},
   "source": [
    "### Общий вывод."
   ]
  },
  {
   "cell_type": "markdown",
   "id": "be25b12e",
   "metadata": {},
   "source": [
    "\n",
    "\n",
    "***Семейное положение***: чаще остальных с выплатой кредитов проблемы у двух категорий - гражданский брак и не женат/не замужем. Лучше всех с выплатой кредитов у категории вдовец/вдова и женат/замужем.\n",
    "\n",
    "\n",
    "***Доход***:уже всего кредиты выпалчивают заемщики, доход которых ниже 30 тыс в месяц. Лучше всего - клиенты, чей доход превышает составляи от 30 до 50 тыс ежемесячно. \n",
    "\n",
    "***Дети***:лучше всего возвращают кредиты заемщики без детей.\n",
    "\n",
    "***Цель***:кто берет кредит на свадьбу или на недвижимость чаще возвращают кредит, чем те, кто берет его на автомобиль или образование."
   ]
  }
 ],
 "metadata": {
  "ExecuteTimeLog": [
   {
    "duration": 81,
    "start_time": "2022-03-05T15:02:15.960Z"
   },
   {
    "duration": 62,
    "start_time": "2022-03-05T15:02:16.994Z"
   },
   {
    "duration": 71,
    "start_time": "2022-03-05T15:04:36.219Z"
   },
   {
    "duration": 609,
    "start_time": "2022-03-05T15:41:22.514Z"
   },
   {
    "duration": 55,
    "start_time": "2022-03-05T15:42:21.641Z"
   },
   {
    "duration": 57,
    "start_time": "2022-03-05T15:42:28.998Z"
   },
   {
    "duration": 11,
    "start_time": "2022-03-05T15:42:48.217Z"
   },
   {
    "duration": 10,
    "start_time": "2022-03-05T16:19:49.798Z"
   },
   {
    "duration": 4,
    "start_time": "2022-03-05T16:36:36.597Z"
   },
   {
    "duration": 24,
    "start_time": "2022-03-05T17:03:08.122Z"
   },
   {
    "duration": 24,
    "start_time": "2022-03-05T17:05:23.651Z"
   },
   {
    "duration": 249,
    "start_time": "2022-03-05T17:05:47.143Z"
   },
   {
    "duration": 8,
    "start_time": "2022-03-05T17:06:46.648Z"
   },
   {
    "duration": 8,
    "start_time": "2022-03-05T17:08:27.743Z"
   },
   {
    "duration": 4,
    "start_time": "2022-03-05T17:13:35.487Z"
   },
   {
    "duration": 11,
    "start_time": "2022-03-05T17:13:45.610Z"
   },
   {
    "duration": 12,
    "start_time": "2022-03-05T18:24:15.259Z"
   },
   {
    "duration": 4,
    "start_time": "2022-03-05T18:30:52.249Z"
   },
   {
    "duration": 183,
    "start_time": "2022-03-05T18:31:41.208Z"
   },
   {
    "duration": 5,
    "start_time": "2022-03-05T18:33:00.739Z"
   },
   {
    "duration": 20,
    "start_time": "2022-03-05T18:33:11.368Z"
   },
   {
    "duration": 4,
    "start_time": "2022-03-05T18:34:10.248Z"
   },
   {
    "duration": 26,
    "start_time": "2022-03-05T18:36:50.363Z"
   },
   {
    "duration": 17,
    "start_time": "2022-03-05T18:40:37.759Z"
   },
   {
    "duration": 17,
    "start_time": "2022-03-05T18:40:43.993Z"
   },
   {
    "duration": 17,
    "start_time": "2022-03-05T18:40:44.669Z"
   },
   {
    "duration": 196,
    "start_time": "2022-03-05T18:58:04.703Z"
   },
   {
    "duration": 13,
    "start_time": "2022-03-05T18:58:10.940Z"
   },
   {
    "duration": 187,
    "start_time": "2022-03-05T18:58:30.952Z"
   },
   {
    "duration": 14,
    "start_time": "2022-03-05T19:00:15.753Z"
   },
   {
    "duration": 15,
    "start_time": "2022-03-05T19:00:34.853Z"
   },
   {
    "duration": 15,
    "start_time": "2022-03-05T19:00:40.334Z"
   },
   {
    "duration": 13,
    "start_time": "2022-03-05T19:00:47.551Z"
   },
   {
    "duration": 8,
    "start_time": "2022-03-05T19:01:07.360Z"
   },
   {
    "duration": 14,
    "start_time": "2022-03-05T19:01:19.068Z"
   },
   {
    "duration": 8,
    "start_time": "2022-03-05T19:01:19.813Z"
   },
   {
    "duration": 11,
    "start_time": "2022-03-05T19:01:36.587Z"
   },
   {
    "duration": 8,
    "start_time": "2022-03-05T19:01:37.419Z"
   },
   {
    "duration": 7,
    "start_time": "2022-03-05T19:03:07.012Z"
   },
   {
    "duration": 7,
    "start_time": "2022-03-05T19:03:43.138Z"
   },
   {
    "duration": 8,
    "start_time": "2022-03-05T19:04:09.550Z"
   },
   {
    "duration": 4,
    "start_time": "2022-03-05T19:17:58.692Z"
   },
   {
    "duration": 74,
    "start_time": "2022-03-05T19:18:33.819Z"
   },
   {
    "duration": 77,
    "start_time": "2022-03-05T19:18:40.840Z"
   },
   {
    "duration": 61,
    "start_time": "2022-03-05T19:18:48.155Z"
   },
   {
    "duration": 53,
    "start_time": "2022-03-05T19:18:54.902Z"
   },
   {
    "duration": 122,
    "start_time": "2022-03-05T19:18:58.405Z"
   },
   {
    "duration": 128,
    "start_time": "2022-03-05T19:20:31.183Z"
   },
   {
    "duration": 9,
    "start_time": "2022-03-05T19:20:41.251Z"
   },
   {
    "duration": 125,
    "start_time": "2022-03-05T19:21:28.046Z"
   },
   {
    "duration": 124,
    "start_time": "2022-03-05T19:21:42.316Z"
   },
   {
    "duration": 3,
    "start_time": "2022-03-05T19:34:36.986Z"
   },
   {
    "duration": 8,
    "start_time": "2022-03-05T19:34:38.768Z"
   },
   {
    "duration": 193,
    "start_time": "2022-03-05T19:35:26.218Z"
   },
   {
    "duration": 194,
    "start_time": "2022-03-05T19:35:58.170Z"
   },
   {
    "duration": 397,
    "start_time": "2022-03-05T19:36:14.644Z"
   },
   {
    "duration": 3,
    "start_time": "2022-03-05T19:50:33.701Z"
   },
   {
    "duration": 436,
    "start_time": "2022-03-05T19:50:34.320Z"
   },
   {
    "duration": 2,
    "start_time": "2022-03-05T19:51:07.066Z"
   },
   {
    "duration": 6,
    "start_time": "2022-03-05T19:51:07.853Z"
   },
   {
    "duration": 8,
    "start_time": "2022-03-05T19:51:12.248Z"
   },
   {
    "duration": 20,
    "start_time": "2022-03-05T19:55:52.229Z"
   },
   {
    "duration": 7,
    "start_time": "2022-03-05T19:55:54.885Z"
   },
   {
    "duration": 12,
    "start_time": "2022-03-05T19:59:16.096Z"
   },
   {
    "duration": 8,
    "start_time": "2022-03-05T19:59:16.752Z"
   },
   {
    "duration": 9,
    "start_time": "2022-03-05T20:04:23.268Z"
   },
   {
    "duration": 8,
    "start_time": "2022-03-05T20:04:23.832Z"
   },
   {
    "duration": 13,
    "start_time": "2022-03-05T20:04:48.598Z"
   },
   {
    "duration": 7,
    "start_time": "2022-03-05T20:04:49.620Z"
   },
   {
    "duration": 174,
    "start_time": "2022-03-05T20:28:10.198Z"
   },
   {
    "duration": 7,
    "start_time": "2022-03-05T20:28:30.660Z"
   },
   {
    "duration": 7,
    "start_time": "2022-03-05T20:28:45.800Z"
   },
   {
    "duration": 5,
    "start_time": "2022-03-05T20:28:55.839Z"
   },
   {
    "duration": 60,
    "start_time": "2022-03-05T20:30:24.794Z"
   },
   {
    "duration": 5394,
    "start_time": "2022-03-05T20:35:32.026Z"
   },
   {
    "duration": 5,
    "start_time": "2022-03-05T20:35:55.821Z"
   },
   {
    "duration": 9,
    "start_time": "2022-03-05T20:36:02.497Z"
   },
   {
    "duration": 11,
    "start_time": "2022-03-05T20:36:29.525Z"
   },
   {
    "duration": 16,
    "start_time": "2022-03-05T20:44:07.535Z"
   },
   {
    "duration": 3,
    "start_time": "2022-03-05T20:44:10.945Z"
   },
   {
    "duration": 15,
    "start_time": "2022-03-05T20:44:11.584Z"
   },
   {
    "duration": 3,
    "start_time": "2022-03-05T20:44:27.091Z"
   },
   {
    "duration": 15,
    "start_time": "2022-03-05T20:44:28.057Z"
   },
   {
    "duration": 23,
    "start_time": "2022-03-05T20:44:37.223Z"
   },
   {
    "duration": 3,
    "start_time": "2022-03-05T20:45:11.358Z"
   },
   {
    "duration": 21,
    "start_time": "2022-03-05T20:45:12.232Z"
   },
   {
    "duration": 3,
    "start_time": "2022-03-05T20:45:42.780Z"
   },
   {
    "duration": 20,
    "start_time": "2022-03-05T20:45:43.586Z"
   },
   {
    "duration": 25,
    "start_time": "2022-03-05T20:50:48.921Z"
   },
   {
    "duration": 8,
    "start_time": "2022-03-05T20:53:35.578Z"
   },
   {
    "duration": 185,
    "start_time": "2022-03-05T20:54:29.361Z"
   },
   {
    "duration": 186,
    "start_time": "2022-03-05T20:54:42.550Z"
   },
   {
    "duration": 185,
    "start_time": "2022-03-05T20:54:49.010Z"
   },
   {
    "duration": 6,
    "start_time": "2022-03-05T20:55:21.999Z"
   },
   {
    "duration": 7,
    "start_time": "2022-03-05T21:01:47.552Z"
   },
   {
    "duration": 5,
    "start_time": "2022-03-05T21:23:10.148Z"
   },
   {
    "duration": 5,
    "start_time": "2022-03-05T21:23:30.474Z"
   },
   {
    "duration": 249,
    "start_time": "2022-03-05T21:23:36.772Z"
   },
   {
    "duration": 217,
    "start_time": "2022-03-05T21:23:53.243Z"
   },
   {
    "duration": 6,
    "start_time": "2022-03-05T21:23:56.395Z"
   },
   {
    "duration": 4,
    "start_time": "2022-03-05T21:28:18.614Z"
   },
   {
    "duration": 4,
    "start_time": "2022-03-05T21:28:43.929Z"
   },
   {
    "duration": 5,
    "start_time": "2022-03-05T21:39:53.183Z"
   },
   {
    "duration": 21,
    "start_time": "2022-03-05T21:40:26.357Z"
   },
   {
    "duration": 19,
    "start_time": "2022-03-05T21:40:33.804Z"
   },
   {
    "duration": 22,
    "start_time": "2022-03-05T21:40:34.509Z"
   },
   {
    "duration": 9,
    "start_time": "2022-03-05T21:40:35.323Z"
   },
   {
    "duration": 762,
    "start_time": "2022-03-05T21:41:32.614Z"
   },
   {
    "duration": 850,
    "start_time": "2022-03-05T21:42:15.534Z"
   },
   {
    "duration": 753,
    "start_time": "2022-03-05T21:42:37.492Z"
   },
   {
    "duration": 8,
    "start_time": "2022-03-05T21:42:55.753Z"
   },
   {
    "duration": 9,
    "start_time": "2022-03-05T21:43:27.521Z"
   },
   {
    "duration": 9,
    "start_time": "2022-03-05T21:43:31.707Z"
   },
   {
    "duration": 7,
    "start_time": "2022-03-05T21:44:08.935Z"
   },
   {
    "duration": 8,
    "start_time": "2022-03-05T21:44:38.008Z"
   },
   {
    "duration": 55,
    "start_time": "2022-03-05T21:44:41.252Z"
   },
   {
    "duration": 11,
    "start_time": "2022-03-05T21:44:41.309Z"
   },
   {
    "duration": 36,
    "start_time": "2022-03-05T21:44:41.323Z"
   },
   {
    "duration": 3,
    "start_time": "2022-03-05T21:44:41.361Z"
   },
   {
    "duration": 9,
    "start_time": "2022-03-05T21:44:41.366Z"
   },
   {
    "duration": 3,
    "start_time": "2022-03-05T21:44:41.377Z"
   },
   {
    "duration": 7,
    "start_time": "2022-03-05T21:44:41.382Z"
   },
   {
    "duration": 3,
    "start_time": "2022-03-05T21:44:41.390Z"
   },
   {
    "duration": 5,
    "start_time": "2022-03-05T21:44:41.412Z"
   },
   {
    "duration": 5,
    "start_time": "2022-03-05T21:44:45.688Z"
   },
   {
    "duration": 3,
    "start_time": "2022-03-05T21:44:48.370Z"
   },
   {
    "duration": 20,
    "start_time": "2022-03-05T21:45:09.648Z"
   },
   {
    "duration": 24,
    "start_time": "2022-03-05T21:45:11.123Z"
   },
   {
    "duration": 8,
    "start_time": "2022-03-05T21:45:11.919Z"
   },
   {
    "duration": 798,
    "start_time": "2022-03-05T21:45:16.478Z"
   },
   {
    "duration": 14,
    "start_time": "2022-03-05T21:45:27.380Z"
   },
   {
    "duration": 13,
    "start_time": "2022-03-05T21:45:35.717Z"
   },
   {
    "duration": 8,
    "start_time": "2022-03-05T21:45:39.727Z"
   },
   {
    "duration": 8,
    "start_time": "2022-03-05T21:45:54.263Z"
   },
   {
    "duration": 13,
    "start_time": "2022-03-05T21:45:55.746Z"
   },
   {
    "duration": 8,
    "start_time": "2022-03-05T21:46:17.459Z"
   },
   {
    "duration": 13,
    "start_time": "2022-03-05T21:46:22.891Z"
   },
   {
    "duration": 17,
    "start_time": "2022-03-05T21:46:50.816Z"
   },
   {
    "duration": 68,
    "start_time": "2022-03-05T21:46:51.422Z"
   },
   {
    "duration": 19,
    "start_time": "2022-03-05T21:46:51.964Z"
   },
   {
    "duration": 21,
    "start_time": "2022-03-05T21:46:59.502Z"
   },
   {
    "duration": 12,
    "start_time": "2022-03-05T21:47:01.554Z"
   },
   {
    "duration": 192,
    "start_time": "2022-03-05T21:47:03.710Z"
   },
   {
    "duration": 8,
    "start_time": "2022-03-05T21:50:26.731Z"
   },
   {
    "duration": 3,
    "start_time": "2022-03-05T21:50:32.036Z"
   },
   {
    "duration": 6,
    "start_time": "2022-03-05T21:50:33.133Z"
   },
   {
    "duration": 22,
    "start_time": "2022-03-05T21:50:34.095Z"
   },
   {
    "duration": 13,
    "start_time": "2022-03-05T21:50:35.121Z"
   },
   {
    "duration": 58,
    "start_time": "2022-03-05T21:50:35.663Z"
   },
   {
    "duration": 13,
    "start_time": "2022-03-05T21:50:36.244Z"
   },
   {
    "duration": 12,
    "start_time": "2022-03-05T21:50:44.686Z"
   },
   {
    "duration": 8,
    "start_time": "2022-03-05T21:50:45.751Z"
   },
   {
    "duration": 13,
    "start_time": "2022-03-05T21:51:07.074Z"
   },
   {
    "duration": 7,
    "start_time": "2022-03-05T21:51:07.617Z"
   },
   {
    "duration": 12,
    "start_time": "2022-03-05T21:52:15.768Z"
   },
   {
    "duration": 7,
    "start_time": "2022-03-05T21:52:17.235Z"
   },
   {
    "duration": 14,
    "start_time": "2022-03-05T21:52:48.519Z"
   },
   {
    "duration": 8,
    "start_time": "2022-03-05T21:52:49.441Z"
   },
   {
    "duration": 205,
    "start_time": "2022-03-05T21:54:59.124Z"
   },
   {
    "duration": 8,
    "start_time": "2022-03-05T21:55:47.084Z"
   },
   {
    "duration": 8,
    "start_time": "2022-03-05T21:57:20.686Z"
   },
   {
    "duration": 4,
    "start_time": "2022-03-05T21:59:48.644Z"
   },
   {
    "duration": 4,
    "start_time": "2022-03-05T22:00:45.229Z"
   },
   {
    "duration": 6,
    "start_time": "2022-03-05T22:05:31.762Z"
   },
   {
    "duration": 6,
    "start_time": "2022-03-05T22:06:13.420Z"
   },
   {
    "duration": 6,
    "start_time": "2022-03-05T22:06:15.214Z"
   },
   {
    "duration": 4,
    "start_time": "2022-03-05T22:08:15.779Z"
   },
   {
    "duration": 4,
    "start_time": "2022-03-05T22:09:26.363Z"
   },
   {
    "duration": 10,
    "start_time": "2022-03-05T22:09:42.508Z"
   },
   {
    "duration": 200,
    "start_time": "2022-03-05T22:10:21.015Z"
   },
   {
    "duration": 176,
    "start_time": "2022-03-05T22:10:47.741Z"
   },
   {
    "duration": 5,
    "start_time": "2022-03-05T22:10:58.575Z"
   },
   {
    "duration": 68,
    "start_time": "2022-03-05T22:11:16.694Z"
   },
   {
    "duration": 9,
    "start_time": "2022-03-05T22:11:26.087Z"
   },
   {
    "duration": 10,
    "start_time": "2022-03-06T17:00:12.626Z"
   },
   {
    "duration": 227,
    "start_time": "2022-03-06T17:05:20.505Z"
   },
   {
    "duration": 681,
    "start_time": "2022-03-06T17:05:27.132Z"
   },
   {
    "duration": 12,
    "start_time": "2022-03-06T17:05:27.815Z"
   },
   {
    "duration": 11,
    "start_time": "2022-03-06T17:05:27.830Z"
   },
   {
    "duration": 19,
    "start_time": "2022-03-06T17:05:27.843Z"
   },
   {
    "duration": 11,
    "start_time": "2022-03-06T17:05:27.864Z"
   },
   {
    "duration": 4,
    "start_time": "2022-03-06T17:05:27.876Z"
   },
   {
    "duration": 10,
    "start_time": "2022-03-06T17:05:27.881Z"
   },
   {
    "duration": 3,
    "start_time": "2022-03-06T17:05:27.893Z"
   },
   {
    "duration": 6,
    "start_time": "2022-03-06T17:05:27.898Z"
   },
   {
    "duration": 3,
    "start_time": "2022-03-06T17:05:27.905Z"
   },
   {
    "duration": 58,
    "start_time": "2022-03-06T17:05:27.910Z"
   },
   {
    "duration": 25,
    "start_time": "2022-03-06T17:05:27.969Z"
   },
   {
    "duration": 8,
    "start_time": "2022-03-06T17:05:27.996Z"
   },
   {
    "duration": 12,
    "start_time": "2022-03-06T17:05:28.006Z"
   },
   {
    "duration": 45,
    "start_time": "2022-03-20T17:58:34.548Z"
   },
   {
    "duration": 373,
    "start_time": "2022-03-20T17:58:39.460Z"
   },
   {
    "duration": 71,
    "start_time": "2022-03-20T17:58:39.834Z"
   },
   {
    "duration": 15,
    "start_time": "2022-03-20T17:58:39.907Z"
   },
   {
    "duration": 19,
    "start_time": "2022-03-20T17:58:39.923Z"
   },
   {
    "duration": 7,
    "start_time": "2022-03-20T17:58:39.945Z"
   },
   {
    "duration": 12,
    "start_time": "2022-03-20T17:58:39.955Z"
   },
   {
    "duration": 4,
    "start_time": "2022-03-20T17:58:39.969Z"
   },
   {
    "duration": 8,
    "start_time": "2022-03-20T17:58:39.974Z"
   },
   {
    "duration": 4,
    "start_time": "2022-03-20T17:58:39.983Z"
   },
   {
    "duration": 5,
    "start_time": "2022-03-20T17:58:39.988Z"
   },
   {
    "duration": 4,
    "start_time": "2022-03-20T17:58:39.995Z"
   },
   {
    "duration": 7,
    "start_time": "2022-03-20T17:58:40.032Z"
   },
   {
    "duration": 6,
    "start_time": "2022-03-20T17:58:41.568Z"
   },
   {
    "duration": 6,
    "start_time": "2022-03-20T17:58:42.687Z"
   },
   {
    "duration": 5,
    "start_time": "2022-03-20T17:58:43.327Z"
   },
   {
    "duration": 14,
    "start_time": "2022-03-20T17:58:44.835Z"
   },
   {
    "duration": 7,
    "start_time": "2022-03-20T19:04:44.001Z"
   },
   {
    "duration": 7,
    "start_time": "2022-03-20T19:06:32.343Z"
   },
   {
    "duration": 7,
    "start_time": "2022-03-20T19:08:41.221Z"
   },
   {
    "duration": 8,
    "start_time": "2022-03-20T19:11:32.323Z"
   },
   {
    "duration": 1434,
    "start_time": "2022-03-20T19:15:42.952Z"
   },
   {
    "duration": 3,
    "start_time": "2022-03-20T19:15:52.425Z"
   },
   {
    "duration": 64,
    "start_time": "2022-03-20T19:15:52.430Z"
   },
   {
    "duration": 15,
    "start_time": "2022-03-20T19:15:52.496Z"
   },
   {
    "duration": 21,
    "start_time": "2022-03-20T19:15:52.513Z"
   },
   {
    "duration": 4,
    "start_time": "2022-03-20T19:15:52.536Z"
   },
   {
    "duration": 11,
    "start_time": "2022-03-20T19:15:52.541Z"
   },
   {
    "duration": 6,
    "start_time": "2022-03-20T19:15:52.554Z"
   },
   {
    "duration": 8,
    "start_time": "2022-03-20T19:15:52.562Z"
   },
   {
    "duration": 3,
    "start_time": "2022-03-20T19:15:52.572Z"
   },
   {
    "duration": 9,
    "start_time": "2022-03-20T19:15:52.576Z"
   },
   {
    "duration": 8,
    "start_time": "2022-03-20T19:15:52.587Z"
   },
   {
    "duration": 36,
    "start_time": "2022-03-20T19:15:52.597Z"
   },
   {
    "duration": 6,
    "start_time": "2022-03-20T19:15:52.634Z"
   },
   {
    "duration": 9,
    "start_time": "2022-03-20T19:15:52.642Z"
   },
   {
    "duration": 9,
    "start_time": "2022-03-20T19:15:52.653Z"
   },
   {
    "duration": 7,
    "start_time": "2022-03-20T19:15:52.664Z"
   },
   {
    "duration": 18,
    "start_time": "2022-03-20T19:15:52.673Z"
   },
   {
    "duration": 43,
    "start_time": "2022-03-20T19:15:52.693Z"
   },
   {
    "duration": 12,
    "start_time": "2022-03-20T19:15:52.738Z"
   },
   {
    "duration": 14,
    "start_time": "2022-03-20T19:15:52.751Z"
   },
   {
    "duration": 9,
    "start_time": "2022-03-20T19:15:52.766Z"
   },
   {
    "duration": 3,
    "start_time": "2022-03-20T19:15:52.791Z"
   },
   {
    "duration": 5,
    "start_time": "2022-03-20T19:15:53.443Z"
   },
   {
    "duration": 20,
    "start_time": "2022-03-20T19:15:53.450Z"
   },
   {
    "duration": 12,
    "start_time": "2022-03-20T19:15:53.472Z"
   },
   {
    "duration": 12,
    "start_time": "2022-03-20T19:15:53.486Z"
   },
   {
    "duration": 6,
    "start_time": "2022-03-20T19:15:53.500Z"
   },
   {
    "duration": 29,
    "start_time": "2022-03-20T19:15:53.508Z"
   },
   {
    "duration": 11,
    "start_time": "2022-03-20T19:15:53.539Z"
   },
   {
    "duration": 5,
    "start_time": "2022-03-20T19:15:53.551Z"
   },
   {
    "duration": 12,
    "start_time": "2022-03-20T19:15:53.558Z"
   },
   {
    "duration": 3,
    "start_time": "2022-03-20T19:15:54.169Z"
   },
   {
    "duration": 12,
    "start_time": "2022-03-20T19:15:54.925Z"
   },
   {
    "duration": 21,
    "start_time": "2022-03-20T19:16:07.194Z"
   },
   {
    "duration": 3,
    "start_time": "2022-03-20T19:16:12.829Z"
   },
   {
    "duration": 20,
    "start_time": "2022-03-20T19:16:13.634Z"
   },
   {
    "duration": 7,
    "start_time": "2022-03-20T19:31:50.145Z"
   },
   {
    "duration": 8,
    "start_time": "2022-03-20T19:32:13.134Z"
   },
   {
    "duration": 117,
    "start_time": "2022-03-20T21:53:00.547Z"
   },
   {
    "duration": 7,
    "start_time": "2022-03-20T21:53:33.585Z"
   },
   {
    "duration": 22,
    "start_time": "2022-03-20T21:53:40.357Z"
   },
   {
    "duration": 12,
    "start_time": "2022-03-20T21:57:01.304Z"
   },
   {
    "duration": 2135,
    "start_time": "2022-03-20T21:57:58.420Z"
   },
   {
    "duration": 1981,
    "start_time": "2022-03-20T21:58:36.802Z"
   },
   {
    "duration": 2225,
    "start_time": "2022-03-20T21:58:39.244Z"
   },
   {
    "duration": 18,
    "start_time": "2022-03-20T21:59:11.673Z"
   },
   {
    "duration": 12,
    "start_time": "2022-03-20T22:02:22.494Z"
   },
   {
    "duration": 5,
    "start_time": "2022-03-20T22:02:32.460Z"
   },
   {
    "duration": 12,
    "start_time": "2022-03-20T22:02:50.243Z"
   },
   {
    "duration": 18,
    "start_time": "2022-03-20T22:02:57.676Z"
   },
   {
    "duration": 23,
    "start_time": "2022-03-20T22:05:09.287Z"
   },
   {
    "duration": 6,
    "start_time": "2022-03-20T22:05:10.550Z"
   },
   {
    "duration": 115,
    "start_time": "2022-03-20T22:06:25.720Z"
   },
   {
    "duration": 18,
    "start_time": "2022-03-20T22:06:40.409Z"
   },
   {
    "duration": 111,
    "start_time": "2022-03-20T22:16:15.336Z"
   },
   {
    "duration": 17,
    "start_time": "2022-03-20T22:16:32.295Z"
   },
   {
    "duration": 12,
    "start_time": "2022-03-20T22:20:16.739Z"
   },
   {
    "duration": 20,
    "start_time": "2022-03-20T22:24:33.720Z"
   },
   {
    "duration": 18,
    "start_time": "2022-03-20T22:24:57.717Z"
   },
   {
    "duration": 16,
    "start_time": "2022-03-20T22:25:54.153Z"
   },
   {
    "duration": 17,
    "start_time": "2022-03-20T22:26:51.205Z"
   },
   {
    "duration": 14,
    "start_time": "2022-03-20T22:27:10.870Z"
   },
   {
    "duration": 15,
    "start_time": "2022-03-20T22:27:15.401Z"
   },
   {
    "duration": 17,
    "start_time": "2022-03-20T22:29:17.632Z"
   },
   {
    "duration": 15,
    "start_time": "2022-03-20T22:29:26.734Z"
   },
   {
    "duration": 5,
    "start_time": "2022-03-20T22:29:27.840Z"
   },
   {
    "duration": 16,
    "start_time": "2022-03-20T22:29:32.006Z"
   },
   {
    "duration": 5,
    "start_time": "2022-03-20T22:29:32.199Z"
   },
   {
    "duration": 11,
    "start_time": "2022-03-20T22:30:33.737Z"
   },
   {
    "duration": 10,
    "start_time": "2022-03-20T22:30:45.929Z"
   },
   {
    "duration": 9,
    "start_time": "2022-03-20T22:30:56.073Z"
   },
   {
    "duration": 10,
    "start_time": "2022-03-20T22:31:11.234Z"
   },
   {
    "duration": 3,
    "start_time": "2022-03-20T22:31:16.032Z"
   },
   {
    "duration": 72,
    "start_time": "2022-03-20T22:31:16.037Z"
   },
   {
    "duration": 29,
    "start_time": "2022-03-20T22:31:16.111Z"
   },
   {
    "duration": 11,
    "start_time": "2022-03-20T22:31:16.141Z"
   },
   {
    "duration": 4,
    "start_time": "2022-03-20T22:31:16.154Z"
   },
   {
    "duration": 9,
    "start_time": "2022-03-20T22:31:16.159Z"
   },
   {
    "duration": 4,
    "start_time": "2022-03-20T22:31:16.169Z"
   },
   {
    "duration": 7,
    "start_time": "2022-03-20T22:31:16.174Z"
   },
   {
    "duration": 3,
    "start_time": "2022-03-20T22:31:16.183Z"
   },
   {
    "duration": 8,
    "start_time": "2022-03-20T22:31:16.187Z"
   },
   {
    "duration": 40,
    "start_time": "2022-03-20T22:31:16.196Z"
   },
   {
    "duration": 13,
    "start_time": "2022-03-20T22:31:16.238Z"
   },
   {
    "duration": 5,
    "start_time": "2022-03-20T22:31:16.254Z"
   },
   {
    "duration": 10,
    "start_time": "2022-03-20T22:31:16.260Z"
   },
   {
    "duration": 9,
    "start_time": "2022-03-20T22:31:16.272Z"
   },
   {
    "duration": 5,
    "start_time": "2022-03-20T22:31:16.282Z"
   },
   {
    "duration": 19,
    "start_time": "2022-03-20T22:31:16.289Z"
   },
   {
    "duration": 18,
    "start_time": "2022-03-20T22:31:16.333Z"
   },
   {
    "duration": 11,
    "start_time": "2022-03-20T22:31:16.353Z"
   },
   {
    "duration": 12,
    "start_time": "2022-03-20T22:31:16.365Z"
   },
   {
    "duration": 8,
    "start_time": "2022-03-20T22:31:16.378Z"
   },
   {
    "duration": 4,
    "start_time": "2022-03-20T22:31:16.388Z"
   },
   {
    "duration": 7,
    "start_time": "2022-03-20T22:31:16.393Z"
   },
   {
    "duration": 47,
    "start_time": "2022-03-20T22:31:16.401Z"
   },
   {
    "duration": 10,
    "start_time": "2022-03-20T22:31:16.450Z"
   },
   {
    "duration": 11,
    "start_time": "2022-03-20T22:31:16.462Z"
   },
   {
    "duration": 7,
    "start_time": "2022-03-20T22:31:16.475Z"
   },
   {
    "duration": 5,
    "start_time": "2022-03-20T22:31:16.484Z"
   },
   {
    "duration": 8,
    "start_time": "2022-03-20T22:31:18.271Z"
   },
   {
    "duration": 9,
    "start_time": "2022-03-20T22:32:09.495Z"
   },
   {
    "duration": 10,
    "start_time": "2022-03-20T22:32:17.728Z"
   },
   {
    "duration": 9,
    "start_time": "2022-03-20T22:32:26.397Z"
   },
   {
    "duration": 9,
    "start_time": "2022-03-20T22:32:34.663Z"
   },
   {
    "duration": 7,
    "start_time": "2022-03-20T22:32:57.666Z"
   },
   {
    "duration": 68,
    "start_time": "2022-03-20T22:36:52.596Z"
   },
   {
    "duration": 18,
    "start_time": "2022-03-20T22:40:19.155Z"
   },
   {
    "duration": 2,
    "start_time": "2022-03-20T22:40:28.290Z"
   },
   {
    "duration": 73,
    "start_time": "2022-03-20T22:40:28.294Z"
   },
   {
    "duration": 15,
    "start_time": "2022-03-20T22:40:28.369Z"
   },
   {
    "duration": 10,
    "start_time": "2022-03-20T22:40:28.386Z"
   },
   {
    "duration": 36,
    "start_time": "2022-03-20T22:40:28.398Z"
   },
   {
    "duration": 7,
    "start_time": "2022-03-20T22:40:28.435Z"
   },
   {
    "duration": 4,
    "start_time": "2022-03-20T22:40:28.443Z"
   },
   {
    "duration": 11,
    "start_time": "2022-03-20T22:40:28.448Z"
   },
   {
    "duration": 3,
    "start_time": "2022-03-20T22:40:28.461Z"
   },
   {
    "duration": 11,
    "start_time": "2022-03-20T22:40:28.466Z"
   },
   {
    "duration": 5,
    "start_time": "2022-03-20T22:40:28.479Z"
   },
   {
    "duration": 8,
    "start_time": "2022-03-20T22:40:28.485Z"
   },
   {
    "duration": 5,
    "start_time": "2022-03-20T22:40:28.494Z"
   },
   {
    "duration": 7,
    "start_time": "2022-03-20T22:40:28.533Z"
   },
   {
    "duration": 11,
    "start_time": "2022-03-20T22:40:28.542Z"
   },
   {
    "duration": 7,
    "start_time": "2022-03-20T22:40:28.555Z"
   },
   {
    "duration": 22,
    "start_time": "2022-03-20T22:40:28.563Z"
   },
   {
    "duration": 17,
    "start_time": "2022-03-20T22:40:28.587Z"
   },
   {
    "duration": 28,
    "start_time": "2022-03-20T22:40:28.606Z"
   },
   {
    "duration": 9,
    "start_time": "2022-03-20T22:40:28.635Z"
   },
   {
    "duration": 9,
    "start_time": "2022-03-20T22:40:28.646Z"
   },
   {
    "duration": 6,
    "start_time": "2022-03-20T22:40:28.656Z"
   },
   {
    "duration": 7,
    "start_time": "2022-03-20T22:40:28.663Z"
   },
   {
    "duration": 18,
    "start_time": "2022-03-20T22:40:28.671Z"
   },
   {
    "duration": 11,
    "start_time": "2022-03-20T22:40:28.691Z"
   },
   {
    "duration": 39,
    "start_time": "2022-03-20T22:40:28.703Z"
   },
   {
    "duration": 8,
    "start_time": "2022-03-20T22:40:28.744Z"
   },
   {
    "duration": 5,
    "start_time": "2022-03-20T22:40:28.754Z"
   },
   {
    "duration": 5,
    "start_time": "2022-03-20T22:40:28.763Z"
   },
   {
    "duration": 8,
    "start_time": "2022-03-20T22:40:28.769Z"
   },
   {
    "duration": 12,
    "start_time": "2022-03-20T22:40:28.779Z"
   },
   {
    "duration": 6,
    "start_time": "2022-03-20T22:40:28.792Z"
   },
   {
    "duration": 48,
    "start_time": "2022-03-20T22:40:28.799Z"
   },
   {
    "duration": 17,
    "start_time": "2022-03-20T22:40:28.849Z"
   },
   {
    "duration": 3,
    "start_time": "2022-03-20T22:41:09.947Z"
   },
   {
    "duration": 63,
    "start_time": "2022-03-20T22:41:14.365Z"
   },
   {
    "duration": 13,
    "start_time": "2022-03-20T22:41:15.492Z"
   },
   {
    "duration": 11,
    "start_time": "2022-03-20T22:41:19.523Z"
   },
   {
    "duration": 3,
    "start_time": "2022-03-20T22:41:21.526Z"
   },
   {
    "duration": 7,
    "start_time": "2022-03-20T22:41:26.366Z"
   },
   {
    "duration": 3,
    "start_time": "2022-03-20T22:41:53.526Z"
   },
   {
    "duration": 6,
    "start_time": "2022-03-20T22:41:54.534Z"
   },
   {
    "duration": 3,
    "start_time": "2022-03-20T22:41:58.033Z"
   },
   {
    "duration": 6,
    "start_time": "2022-03-20T22:41:59.243Z"
   },
   {
    "duration": 3,
    "start_time": "2022-03-20T22:42:03.641Z"
   },
   {
    "duration": 8,
    "start_time": "2022-03-20T22:42:05.727Z"
   },
   {
    "duration": 6,
    "start_time": "2022-03-20T22:42:09.745Z"
   },
   {
    "duration": 7,
    "start_time": "2022-03-20T22:42:12.453Z"
   },
   {
    "duration": 7,
    "start_time": "2022-03-20T22:42:17.246Z"
   },
   {
    "duration": 3,
    "start_time": "2022-03-20T22:42:22.578Z"
   },
   {
    "duration": 17,
    "start_time": "2022-03-20T22:42:24.271Z"
   },
   {
    "duration": 19,
    "start_time": "2022-03-20T22:42:25.539Z"
   },
   {
    "duration": 11,
    "start_time": "2022-03-20T22:42:26.510Z"
   },
   {
    "duration": 8,
    "start_time": "2022-03-20T22:42:27.451Z"
   },
   {
    "duration": 7,
    "start_time": "2022-03-20T22:42:28.921Z"
   },
   {
    "duration": 3,
    "start_time": "2022-03-20T22:42:30.022Z"
   },
   {
    "duration": 6,
    "start_time": "2022-03-20T22:42:30.334Z"
   },
   {
    "duration": 19,
    "start_time": "2022-03-20T22:42:30.689Z"
   },
   {
    "duration": 10,
    "start_time": "2022-03-20T22:42:31.091Z"
   },
   {
    "duration": 11,
    "start_time": "2022-03-20T22:42:31.721Z"
   },
   {
    "duration": 7,
    "start_time": "2022-03-20T22:42:32.570Z"
   },
   {
    "duration": 4,
    "start_time": "2022-03-20T22:42:34.305Z"
   },
   {
    "duration": 3,
    "start_time": "2022-03-20T22:42:35.587Z"
   },
   {
    "duration": 4,
    "start_time": "2022-03-20T22:42:37.618Z"
   },
   {
    "duration": 10,
    "start_time": "2022-03-20T22:42:37.867Z"
   },
   {
    "duration": 3,
    "start_time": "2022-03-20T22:42:39.180Z"
   },
   {
    "duration": 22,
    "start_time": "2022-03-20T22:42:39.747Z"
   },
   {
    "duration": 19,
    "start_time": "2022-03-20T22:42:45.815Z"
   },
   {
    "duration": 18,
    "start_time": "2022-03-20T22:42:50.468Z"
   },
   {
    "duration": 11,
    "start_time": "2022-03-20T22:47:36.486Z"
   },
   {
    "duration": 19,
    "start_time": "2022-03-20T22:47:44.409Z"
   },
   {
    "duration": 18,
    "start_time": "2022-03-20T22:54:55.583Z"
   },
   {
    "duration": 3,
    "start_time": "2022-03-20T23:20:17.125Z"
   },
   {
    "duration": 78,
    "start_time": "2022-03-20T23:20:17.130Z"
   },
   {
    "duration": 32,
    "start_time": "2022-03-20T23:20:17.210Z"
   },
   {
    "duration": 11,
    "start_time": "2022-03-20T23:20:17.244Z"
   },
   {
    "duration": 5,
    "start_time": "2022-03-20T23:20:17.257Z"
   },
   {
    "duration": 10,
    "start_time": "2022-03-20T23:20:17.263Z"
   },
   {
    "duration": 4,
    "start_time": "2022-03-20T23:20:17.275Z"
   },
   {
    "duration": 8,
    "start_time": "2022-03-20T23:20:17.281Z"
   },
   {
    "duration": 43,
    "start_time": "2022-03-20T23:20:17.290Z"
   },
   {
    "duration": 5,
    "start_time": "2022-03-20T23:20:17.335Z"
   },
   {
    "duration": 4,
    "start_time": "2022-03-20T23:20:17.343Z"
   },
   {
    "duration": 10,
    "start_time": "2022-03-20T23:20:17.349Z"
   },
   {
    "duration": 6,
    "start_time": "2022-03-20T23:20:17.360Z"
   },
   {
    "duration": 7,
    "start_time": "2022-03-20T23:20:17.368Z"
   },
   {
    "duration": 9,
    "start_time": "2022-03-20T23:20:17.376Z"
   },
   {
    "duration": 5,
    "start_time": "2022-03-20T23:20:17.386Z"
   },
   {
    "duration": 55,
    "start_time": "2022-03-20T23:20:17.392Z"
   },
   {
    "duration": 19,
    "start_time": "2022-03-20T23:20:17.449Z"
   },
   {
    "duration": 10,
    "start_time": "2022-03-20T23:20:17.470Z"
   },
   {
    "duration": 9,
    "start_time": "2022-03-20T23:20:17.482Z"
   },
   {
    "duration": 12,
    "start_time": "2022-03-20T23:20:17.493Z"
   },
   {
    "duration": 3,
    "start_time": "2022-03-20T23:20:17.533Z"
   },
   {
    "duration": 10,
    "start_time": "2022-03-20T23:20:17.538Z"
   },
   {
    "duration": 22,
    "start_time": "2022-03-20T23:20:17.549Z"
   },
   {
    "duration": 10,
    "start_time": "2022-03-20T23:20:17.573Z"
   },
   {
    "duration": 11,
    "start_time": "2022-03-20T23:20:17.585Z"
   },
   {
    "duration": 13,
    "start_time": "2022-03-20T23:20:17.597Z"
   },
   {
    "duration": 22,
    "start_time": "2022-03-20T23:20:17.612Z"
   },
   {
    "duration": 10,
    "start_time": "2022-03-20T23:20:17.637Z"
   },
   {
    "duration": 7,
    "start_time": "2022-03-20T23:20:17.649Z"
   },
   {
    "duration": 13,
    "start_time": "2022-03-20T23:20:17.658Z"
   },
   {
    "duration": 9,
    "start_time": "2022-03-20T23:20:17.672Z"
   },
   {
    "duration": 24,
    "start_time": "2022-03-20T23:20:17.683Z"
   },
   {
    "duration": 30,
    "start_time": "2022-03-20T23:20:17.708Z"
   },
   {
    "duration": 18,
    "start_time": "2022-03-20T23:20:17.740Z"
   },
   {
    "duration": 66,
    "start_time": "2022-03-20T23:20:17.759Z"
   },
   {
    "duration": 18,
    "start_time": "2022-03-20T23:20:17.833Z"
   },
   {
    "duration": 572,
    "start_time": "2022-03-31T19:15:31.010Z"
   },
   {
    "duration": 102,
    "start_time": "2022-03-31T19:15:31.584Z"
   },
   {
    "duration": 26,
    "start_time": "2022-03-31T19:15:31.688Z"
   },
   {
    "duration": 23,
    "start_time": "2022-03-31T19:15:31.716Z"
   },
   {
    "duration": 7,
    "start_time": "2022-03-31T19:15:31.741Z"
   },
   {
    "duration": 61,
    "start_time": "2022-03-31T19:15:31.750Z"
   },
   {
    "duration": 11,
    "start_time": "2022-03-31T19:15:31.814Z"
   },
   {
    "duration": 17,
    "start_time": "2022-03-31T19:15:31.827Z"
   },
   {
    "duration": 10,
    "start_time": "2022-03-31T19:15:31.847Z"
   },
   {
    "duration": 12,
    "start_time": "2022-03-31T19:15:31.859Z"
   },
   {
    "duration": 16,
    "start_time": "2022-03-31T19:15:31.874Z"
   },
   {
    "duration": 40,
    "start_time": "2022-03-31T19:15:31.892Z"
   },
   {
    "duration": 7,
    "start_time": "2022-03-31T19:15:31.935Z"
   },
   {
    "duration": 35,
    "start_time": "2022-03-31T19:15:31.945Z"
   },
   {
    "duration": 25,
    "start_time": "2022-03-31T19:15:31.982Z"
   },
   {
    "duration": 6,
    "start_time": "2022-03-31T19:15:32.012Z"
   },
   {
    "duration": 30,
    "start_time": "2022-03-31T19:15:32.020Z"
   },
   {
    "duration": 38,
    "start_time": "2022-03-31T19:15:32.052Z"
   },
   {
    "duration": 16,
    "start_time": "2022-03-31T19:15:32.092Z"
   },
   {
    "duration": 20,
    "start_time": "2022-03-31T19:15:32.110Z"
   },
   {
    "duration": 13,
    "start_time": "2022-03-31T19:15:32.132Z"
   },
   {
    "duration": 10,
    "start_time": "2022-03-31T19:15:32.147Z"
   },
   {
    "duration": 34,
    "start_time": "2022-03-31T19:15:32.159Z"
   },
   {
    "duration": 32,
    "start_time": "2022-03-31T19:15:32.195Z"
   },
   {
    "duration": 16,
    "start_time": "2022-03-31T19:15:32.229Z"
   },
   {
    "duration": 17,
    "start_time": "2022-03-31T19:15:32.247Z"
   },
   {
    "duration": 25,
    "start_time": "2022-03-31T19:15:32.266Z"
   },
   {
    "duration": 20,
    "start_time": "2022-03-31T19:15:32.293Z"
   },
   {
    "duration": 14,
    "start_time": "2022-03-31T19:15:32.315Z"
   },
   {
    "duration": 8,
    "start_time": "2022-03-31T19:15:32.332Z"
   },
   {
    "duration": 20,
    "start_time": "2022-03-31T19:15:32.342Z"
   },
   {
    "duration": 30,
    "start_time": "2022-03-31T19:15:32.364Z"
   },
   {
    "duration": 35,
    "start_time": "2022-03-31T19:15:32.396Z"
   },
   {
    "duration": 27,
    "start_time": "2022-03-31T19:15:32.433Z"
   },
   {
    "duration": 51,
    "start_time": "2022-03-31T19:15:32.462Z"
   },
   {
    "duration": 26,
    "start_time": "2022-03-31T19:15:32.515Z"
   },
   {
    "duration": 55,
    "start_time": "2022-03-31T19:15:32.543Z"
   },
   {
    "duration": 11,
    "start_time": "2022-03-31T19:34:17.786Z"
   },
   {
    "duration": 10,
    "start_time": "2022-03-31T19:34:27.452Z"
   },
   {
    "duration": 74,
    "start_time": "2022-04-01T10:16:30.377Z"
   },
   {
    "duration": 9,
    "start_time": "2022-04-01T10:16:36.706Z"
   },
   {
    "duration": 500,
    "start_time": "2022-04-01T10:16:40.479Z"
   },
   {
    "duration": 99,
    "start_time": "2022-04-01T10:16:40.982Z"
   },
   {
    "duration": 22,
    "start_time": "2022-04-01T10:16:41.083Z"
   },
   {
    "duration": 13,
    "start_time": "2022-04-01T10:16:41.107Z"
   },
   {
    "duration": 5,
    "start_time": "2022-04-01T10:16:41.142Z"
   },
   {
    "duration": 14,
    "start_time": "2022-04-01T10:16:41.149Z"
   },
   {
    "duration": 13,
    "start_time": "2022-04-01T10:18:14.201Z"
   },
   {
    "duration": 3,
    "start_time": "2022-04-01T10:23:18.387Z"
   },
   {
    "duration": 3,
    "start_time": "2022-04-01T10:23:20.056Z"
   },
   {
    "duration": 9,
    "start_time": "2022-04-01T10:26:39.228Z"
   },
   {
    "duration": 6,
    "start_time": "2022-04-01T10:27:35.999Z"
   },
   {
    "duration": 14,
    "start_time": "2022-04-01T10:28:02.958Z"
   },
   {
    "duration": 42,
    "start_time": "2022-04-07T07:56:29.738Z"
   },
   {
    "duration": 375,
    "start_time": "2022-04-07T07:56:34.196Z"
   },
   {
    "duration": 84,
    "start_time": "2022-04-07T07:56:34.574Z"
   },
   {
    "duration": 14,
    "start_time": "2022-04-07T07:56:34.659Z"
   },
   {
    "duration": 9,
    "start_time": "2022-04-07T07:56:34.674Z"
   },
   {
    "duration": 10,
    "start_time": "2022-04-07T07:56:34.685Z"
   },
   {
    "duration": 6,
    "start_time": "2022-04-07T07:56:34.696Z"
   },
   {
    "duration": 7,
    "start_time": "2022-04-07T07:56:34.703Z"
   },
   {
    "duration": 6,
    "start_time": "2022-04-07T07:56:34.711Z"
   },
   {
    "duration": 27,
    "start_time": "2022-04-07T07:57:17.437Z"
   },
   {
    "duration": 6,
    "start_time": "2022-04-07T07:57:56.269Z"
   },
   {
    "duration": 4,
    "start_time": "2022-04-07T08:11:02.540Z"
   },
   {
    "duration": 5,
    "start_time": "2022-04-07T08:11:18.680Z"
   },
   {
    "duration": 8,
    "start_time": "2022-04-07T08:11:26.226Z"
   },
   {
    "duration": 233,
    "start_time": "2022-04-07T09:46:51.505Z"
   },
   {
    "duration": 2,
    "start_time": "2022-04-07T09:47:03.101Z"
   },
   {
    "duration": 84,
    "start_time": "2022-04-07T09:47:03.106Z"
   },
   {
    "duration": 13,
    "start_time": "2022-04-07T09:47:03.191Z"
   },
   {
    "duration": 15,
    "start_time": "2022-04-07T09:47:03.206Z"
   },
   {
    "duration": 9,
    "start_time": "2022-04-07T09:47:03.225Z"
   },
   {
    "duration": 9,
    "start_time": "2022-04-07T09:47:03.236Z"
   },
   {
    "duration": 10,
    "start_time": "2022-04-07T09:47:03.246Z"
   },
   {
    "duration": 25,
    "start_time": "2022-04-07T09:47:03.257Z"
   },
   {
    "duration": 6,
    "start_time": "2022-04-07T09:47:03.284Z"
   },
   {
    "duration": 6,
    "start_time": "2022-04-07T09:47:03.291Z"
   },
   {
    "duration": 4,
    "start_time": "2022-04-07T09:47:03.299Z"
   },
   {
    "duration": 15,
    "start_time": "2022-04-07T09:47:03.305Z"
   },
   {
    "duration": 5,
    "start_time": "2022-04-07T09:47:03.321Z"
   },
   {
    "duration": 7,
    "start_time": "2022-04-07T09:47:03.329Z"
   },
   {
    "duration": 12,
    "start_time": "2022-04-07T09:47:03.337Z"
   },
   {
    "duration": 4,
    "start_time": "2022-04-07T09:47:03.381Z"
   },
   {
    "duration": 18,
    "start_time": "2022-04-07T09:47:03.386Z"
   },
   {
    "duration": 17,
    "start_time": "2022-04-07T09:47:03.406Z"
   },
   {
    "duration": 10,
    "start_time": "2022-04-07T09:47:03.424Z"
   },
   {
    "duration": 9,
    "start_time": "2022-04-07T09:47:03.436Z"
   },
   {
    "duration": 8,
    "start_time": "2022-04-07T09:47:03.446Z"
   },
   {
    "duration": 4,
    "start_time": "2022-04-07T09:47:03.455Z"
   },
   {
    "duration": 6,
    "start_time": "2022-04-07T09:47:03.461Z"
   },
   {
    "duration": 4,
    "start_time": "2022-04-07T09:47:03.468Z"
   },
   {
    "duration": 6,
    "start_time": "2022-04-07T09:47:03.474Z"
   },
   {
    "duration": 5,
    "start_time": "2022-04-07T09:47:03.482Z"
   },
   {
    "duration": 697,
    "start_time": "2022-04-07T09:47:03.488Z"
   },
   {
    "duration": 186,
    "start_time": "2022-04-07T09:47:50.656Z"
   },
   {
    "duration": 187,
    "start_time": "2022-04-07T09:48:04.794Z"
   },
   {
    "duration": 3,
    "start_time": "2022-04-07T09:48:24.281Z"
   },
   {
    "duration": 3,
    "start_time": "2022-04-07T09:48:56.807Z"
   },
   {
    "duration": 4,
    "start_time": "2022-04-07T09:49:38.721Z"
   },
   {
    "duration": 10,
    "start_time": "2022-04-07T09:49:39.233Z"
   },
   {
    "duration": 7,
    "start_time": "2022-04-07T09:49:45.365Z"
   },
   {
    "duration": 7,
    "start_time": "2022-04-07T09:51:21.204Z"
   },
   {
    "duration": 6,
    "start_time": "2022-04-07T09:51:22.829Z"
   },
   {
    "duration": 8,
    "start_time": "2022-04-07T09:55:20.239Z"
   },
   {
    "duration": 7,
    "start_time": "2022-04-07T09:55:22.810Z"
   },
   {
    "duration": 11,
    "start_time": "2022-04-07T09:55:30.413Z"
   },
   {
    "duration": 7,
    "start_time": "2022-04-07T09:56:48.912Z"
   },
   {
    "duration": 7,
    "start_time": "2022-04-07T09:56:51.597Z"
   },
   {
    "duration": 3,
    "start_time": "2022-04-07T09:57:08.560Z"
   },
   {
    "duration": 8,
    "start_time": "2022-04-07T09:57:09.166Z"
   },
   {
    "duration": 6,
    "start_time": "2022-04-07T09:57:12.028Z"
   },
   {
    "duration": 2,
    "start_time": "2022-04-07T09:58:35.446Z"
   },
   {
    "duration": 7,
    "start_time": "2022-04-07T09:58:38.074Z"
   },
   {
    "duration": 3,
    "start_time": "2022-04-07T09:58:44.066Z"
   },
   {
    "duration": 10,
    "start_time": "2022-04-07T10:00:20.659Z"
   },
   {
    "duration": 6,
    "start_time": "2022-04-07T10:00:21.346Z"
   },
   {
    "duration": 202,
    "start_time": "2022-04-07T10:15:20.431Z"
   },
   {
    "duration": 4,
    "start_time": "2022-04-07T10:16:11.710Z"
   },
   {
    "duration": 6,
    "start_time": "2022-04-07T10:17:07.598Z"
   },
   {
    "duration": 7,
    "start_time": "2022-04-07T10:17:08.520Z"
   },
   {
    "duration": 3,
    "start_time": "2022-04-07T10:18:20.705Z"
   },
   {
    "duration": 3,
    "start_time": "2022-04-07T10:18:24.251Z"
   },
   {
    "duration": 3,
    "start_time": "2022-04-07T10:18:24.293Z"
   },
   {
    "duration": 7,
    "start_time": "2022-04-07T10:18:25.028Z"
   },
   {
    "duration": 4,
    "start_time": "2022-04-07T10:18:31.317Z"
   },
   {
    "duration": 203,
    "start_time": "2022-04-07T10:19:32.844Z"
   },
   {
    "duration": 3,
    "start_time": "2022-04-07T10:20:28.362Z"
   },
   {
    "duration": 3,
    "start_time": "2022-04-07T10:20:29.692Z"
   },
   {
    "duration": 6,
    "start_time": "2022-04-07T10:20:32.247Z"
   },
   {
    "duration": 4,
    "start_time": "2022-04-07T10:20:56.504Z"
   },
   {
    "duration": 7,
    "start_time": "2022-04-07T10:20:56.509Z"
   },
   {
    "duration": 7,
    "start_time": "2022-04-07T10:20:57.254Z"
   },
   {
    "duration": 3,
    "start_time": "2022-04-07T10:23:03.591Z"
   },
   {
    "duration": 2,
    "start_time": "2022-04-07T10:23:05.461Z"
   },
   {
    "duration": 7,
    "start_time": "2022-04-07T10:24:03.846Z"
   },
   {
    "duration": 7,
    "start_time": "2022-04-07T10:24:04.522Z"
   },
   {
    "duration": 3,
    "start_time": "2022-04-07T10:24:07.056Z"
   },
   {
    "duration": 8,
    "start_time": "2022-04-07T10:24:07.584Z"
   },
   {
    "duration": 7,
    "start_time": "2022-04-07T10:24:07.950Z"
   },
   {
    "duration": 3,
    "start_time": "2022-04-07T10:25:00.399Z"
   },
   {
    "duration": 76,
    "start_time": "2022-04-07T10:25:00.403Z"
   },
   {
    "duration": 14,
    "start_time": "2022-04-07T10:25:00.480Z"
   },
   {
    "duration": 11,
    "start_time": "2022-04-07T10:25:00.495Z"
   },
   {
    "duration": 9,
    "start_time": "2022-04-07T10:25:00.508Z"
   },
   {
    "duration": 6,
    "start_time": "2022-04-07T10:25:00.518Z"
   },
   {
    "duration": 6,
    "start_time": "2022-04-07T10:25:00.525Z"
   },
   {
    "duration": 12,
    "start_time": "2022-04-07T10:25:00.532Z"
   },
   {
    "duration": 5,
    "start_time": "2022-04-07T10:25:00.545Z"
   },
   {
    "duration": 31,
    "start_time": "2022-04-07T10:25:00.551Z"
   },
   {
    "duration": 13,
    "start_time": "2022-04-07T10:25:00.585Z"
   },
   {
    "duration": 11,
    "start_time": "2022-04-07T10:25:00.599Z"
   },
   {
    "duration": 8,
    "start_time": "2022-04-07T10:25:00.611Z"
   },
   {
    "duration": 15,
    "start_time": "2022-04-07T10:25:00.620Z"
   },
   {
    "duration": 8,
    "start_time": "2022-04-07T10:25:00.637Z"
   },
   {
    "duration": 7,
    "start_time": "2022-04-07T10:25:00.646Z"
   },
   {
    "duration": 28,
    "start_time": "2022-04-07T10:25:00.654Z"
   },
   {
    "duration": 16,
    "start_time": "2022-04-07T10:25:00.684Z"
   },
   {
    "duration": 13,
    "start_time": "2022-04-07T10:25:00.702Z"
   },
   {
    "duration": 21,
    "start_time": "2022-04-07T10:25:00.717Z"
   },
   {
    "duration": 14,
    "start_time": "2022-04-07T10:25:00.739Z"
   },
   {
    "duration": 20,
    "start_time": "2022-04-07T10:25:00.754Z"
   },
   {
    "duration": 18,
    "start_time": "2022-04-07T10:25:00.775Z"
   },
   {
    "duration": 23,
    "start_time": "2022-04-07T10:25:00.795Z"
   },
   {
    "duration": 7,
    "start_time": "2022-04-07T10:25:03.218Z"
   },
   {
    "duration": 193,
    "start_time": "2022-04-07T10:38:40.040Z"
   },
   {
    "duration": 127,
    "start_time": "2022-04-07T10:38:40.516Z"
   },
   {
    "duration": 192,
    "start_time": "2022-04-07T10:38:56.142Z"
   },
   {
    "duration": 197,
    "start_time": "2022-04-07T10:39:00.611Z"
   },
   {
    "duration": 3,
    "start_time": "2022-04-07T10:39:08.984Z"
   },
   {
    "duration": 19,
    "start_time": "2022-04-07T10:39:09.967Z"
   },
   {
    "duration": 6,
    "start_time": "2022-04-07T10:39:11.112Z"
   },
   {
    "duration": 3,
    "start_time": "2022-04-07T10:41:37.858Z"
   },
   {
    "duration": 17,
    "start_time": "2022-04-07T10:41:38.359Z"
   },
   {
    "duration": 5,
    "start_time": "2022-04-07T10:43:05.413Z"
   },
   {
    "duration": 2,
    "start_time": "2022-04-07T10:44:05.056Z"
   },
   {
    "duration": 5,
    "start_time": "2022-04-07T10:44:06.013Z"
   },
   {
    "duration": 18,
    "start_time": "2022-04-07T10:44:06.994Z"
   },
   {
    "duration": 11,
    "start_time": "2022-04-07T10:44:07.874Z"
   },
   {
    "duration": 12,
    "start_time": "2022-04-07T10:44:10.687Z"
   },
   {
    "duration": 5,
    "start_time": "2022-04-07T10:44:15.839Z"
   },
   {
    "duration": 3,
    "start_time": "2022-04-07T10:44:29.605Z"
   },
   {
    "duration": 68,
    "start_time": "2022-04-07T10:44:29.610Z"
   },
   {
    "duration": 13,
    "start_time": "2022-04-07T10:44:29.680Z"
   },
   {
    "duration": 9,
    "start_time": "2022-04-07T10:44:29.694Z"
   },
   {
    "duration": 9,
    "start_time": "2022-04-07T10:44:29.705Z"
   },
   {
    "duration": 8,
    "start_time": "2022-04-07T10:44:29.715Z"
   },
   {
    "duration": 11,
    "start_time": "2022-04-07T10:44:29.724Z"
   },
   {
    "duration": 8,
    "start_time": "2022-04-07T10:44:29.736Z"
   },
   {
    "duration": 5,
    "start_time": "2022-04-07T10:44:29.745Z"
   },
   {
    "duration": 31,
    "start_time": "2022-04-07T10:44:29.751Z"
   },
   {
    "duration": 6,
    "start_time": "2022-04-07T10:44:29.784Z"
   },
   {
    "duration": 8,
    "start_time": "2022-04-07T10:44:29.791Z"
   },
   {
    "duration": 4,
    "start_time": "2022-04-07T10:44:29.801Z"
   },
   {
    "duration": 6,
    "start_time": "2022-04-07T10:44:29.807Z"
   },
   {
    "duration": 9,
    "start_time": "2022-04-07T10:44:29.814Z"
   },
   {
    "duration": 6,
    "start_time": "2022-04-07T10:44:29.824Z"
   },
   {
    "duration": 18,
    "start_time": "2022-04-07T10:44:29.831Z"
   },
   {
    "duration": 45,
    "start_time": "2022-04-07T10:44:29.850Z"
   },
   {
    "duration": 10,
    "start_time": "2022-04-07T10:44:29.896Z"
   },
   {
    "duration": 10,
    "start_time": "2022-04-07T10:44:29.907Z"
   },
   {
    "duration": 8,
    "start_time": "2022-04-07T10:44:29.919Z"
   },
   {
    "duration": 3,
    "start_time": "2022-04-07T10:44:35.366Z"
   },
   {
    "duration": 5,
    "start_time": "2022-04-07T10:44:36.136Z"
   },
   {
    "duration": 18,
    "start_time": "2022-04-07T10:44:36.788Z"
   },
   {
    "duration": 11,
    "start_time": "2022-04-07T10:44:37.640Z"
   },
   {
    "duration": 12,
    "start_time": "2022-04-07T10:44:38.679Z"
   },
   {
    "duration": 6,
    "start_time": "2022-04-07T10:44:40.447Z"
   },
   {
    "duration": 2,
    "start_time": "2022-04-07T10:47:33.932Z"
   },
   {
    "duration": 67,
    "start_time": "2022-04-07T10:47:33.936Z"
   },
   {
    "duration": 12,
    "start_time": "2022-04-07T10:47:34.005Z"
   },
   {
    "duration": 8,
    "start_time": "2022-04-07T10:47:34.019Z"
   },
   {
    "duration": 9,
    "start_time": "2022-04-07T10:47:34.029Z"
   },
   {
    "duration": 5,
    "start_time": "2022-04-07T10:47:34.039Z"
   },
   {
    "duration": 36,
    "start_time": "2022-04-07T10:47:34.046Z"
   },
   {
    "duration": 7,
    "start_time": "2022-04-07T10:47:34.083Z"
   },
   {
    "duration": 6,
    "start_time": "2022-04-07T10:47:34.092Z"
   },
   {
    "duration": 10,
    "start_time": "2022-04-07T10:47:34.099Z"
   },
   {
    "duration": 3,
    "start_time": "2022-04-07T10:47:34.113Z"
   },
   {
    "duration": 8,
    "start_time": "2022-04-07T10:47:34.118Z"
   },
   {
    "duration": 5,
    "start_time": "2022-04-07T10:47:34.128Z"
   },
   {
    "duration": 6,
    "start_time": "2022-04-07T10:47:34.135Z"
   },
   {
    "duration": 40,
    "start_time": "2022-04-07T10:47:34.142Z"
   },
   {
    "duration": 4,
    "start_time": "2022-04-07T10:47:34.184Z"
   },
   {
    "duration": 16,
    "start_time": "2022-04-07T10:47:34.190Z"
   },
   {
    "duration": 18,
    "start_time": "2022-04-07T10:47:34.208Z"
   },
   {
    "duration": 10,
    "start_time": "2022-04-07T10:47:34.228Z"
   },
   {
    "duration": 43,
    "start_time": "2022-04-07T10:47:34.239Z"
   },
   {
    "duration": 7,
    "start_time": "2022-04-07T10:47:34.283Z"
   },
   {
    "duration": 5,
    "start_time": "2022-04-07T10:47:34.292Z"
   },
   {
    "duration": 9,
    "start_time": "2022-04-07T10:47:34.298Z"
   },
   {
    "duration": 20,
    "start_time": "2022-04-07T10:47:34.308Z"
   },
   {
    "duration": 11,
    "start_time": "2022-04-07T10:47:34.330Z"
   },
   {
    "duration": 12,
    "start_time": "2022-04-07T10:47:34.342Z"
   },
   {
    "duration": 31,
    "start_time": "2022-04-07T10:47:34.355Z"
   },
   {
    "duration": 8,
    "start_time": "2022-04-07T10:47:34.387Z"
   },
   {
    "duration": 5,
    "start_time": "2022-04-07T10:47:34.397Z"
   },
   {
    "duration": 6,
    "start_time": "2022-04-07T10:47:34.404Z"
   },
   {
    "duration": 11,
    "start_time": "2022-04-07T10:47:34.412Z"
   },
   {
    "duration": 5,
    "start_time": "2022-04-07T10:47:34.424Z"
   },
   {
    "duration": 20,
    "start_time": "2022-04-07T10:47:34.430Z"
   },
   {
    "duration": 41,
    "start_time": "2022-04-07T10:47:34.451Z"
   },
   {
    "duration": 17,
    "start_time": "2022-04-07T10:47:34.494Z"
   },
   {
    "duration": 17,
    "start_time": "2022-04-07T10:47:34.512Z"
   },
   {
    "duration": 17,
    "start_time": "2022-04-07T10:47:36.590Z"
   },
   {
    "duration": 9,
    "start_time": "2022-04-07T10:49:32.022Z"
   },
   {
    "duration": 11,
    "start_time": "2022-04-07T10:49:33.123Z"
   },
   {
    "duration": 6,
    "start_time": "2022-04-07T10:49:36.450Z"
   },
   {
    "duration": 3,
    "start_time": "2022-04-07T10:49:43.377Z"
   },
   {
    "duration": 65,
    "start_time": "2022-04-07T10:49:43.395Z"
   },
   {
    "duration": 13,
    "start_time": "2022-04-07T10:49:43.461Z"
   },
   {
    "duration": 9,
    "start_time": "2022-04-07T10:49:43.475Z"
   },
   {
    "duration": 8,
    "start_time": "2022-04-07T10:49:43.485Z"
   },
   {
    "duration": 6,
    "start_time": "2022-04-07T10:49:43.495Z"
   },
   {
    "duration": 5,
    "start_time": "2022-04-07T10:49:43.502Z"
   },
   {
    "duration": 7,
    "start_time": "2022-04-07T10:49:43.508Z"
   },
   {
    "duration": 5,
    "start_time": "2022-04-07T10:49:43.516Z"
   },
   {
    "duration": 5,
    "start_time": "2022-04-07T10:49:43.522Z"
   },
   {
    "duration": 4,
    "start_time": "2022-04-07T10:49:43.529Z"
   },
   {
    "duration": 9,
    "start_time": "2022-04-07T10:49:43.534Z"
   },
   {
    "duration": 36,
    "start_time": "2022-04-07T10:49:43.545Z"
   },
   {
    "duration": 6,
    "start_time": "2022-04-07T10:49:43.583Z"
   },
   {
    "duration": 7,
    "start_time": "2022-04-07T10:49:43.591Z"
   },
   {
    "duration": 5,
    "start_time": "2022-04-07T10:49:43.599Z"
   },
   {
    "duration": 16,
    "start_time": "2022-04-07T10:49:43.605Z"
   },
   {
    "duration": 16,
    "start_time": "2022-04-07T10:49:43.623Z"
   },
   {
    "duration": 10,
    "start_time": "2022-04-07T10:49:43.640Z"
   },
   {
    "duration": 7,
    "start_time": "2022-04-07T10:49:43.681Z"
   },
   {
    "duration": 9,
    "start_time": "2022-04-07T10:49:43.689Z"
   },
   {
    "duration": 4,
    "start_time": "2022-04-07T10:49:43.699Z"
   },
   {
    "duration": 8,
    "start_time": "2022-04-07T10:49:43.704Z"
   },
   {
    "duration": 19,
    "start_time": "2022-04-07T10:49:43.714Z"
   },
   {
    "duration": 10,
    "start_time": "2022-04-07T10:49:43.734Z"
   },
   {
    "duration": 36,
    "start_time": "2022-04-07T10:49:43.745Z"
   },
   {
    "duration": 6,
    "start_time": "2022-04-07T10:49:43.782Z"
   },
   {
    "duration": 2,
    "start_time": "2022-04-07T10:49:58.203Z"
   },
   {
    "duration": 94,
    "start_time": "2022-04-07T10:49:58.208Z"
   },
   {
    "duration": 16,
    "start_time": "2022-04-07T10:49:58.305Z"
   },
   {
    "duration": 21,
    "start_time": "2022-04-07T10:49:58.322Z"
   },
   {
    "duration": 20,
    "start_time": "2022-04-07T10:49:58.345Z"
   },
   {
    "duration": 19,
    "start_time": "2022-04-07T10:49:58.367Z"
   },
   {
    "duration": 16,
    "start_time": "2022-04-07T10:49:58.389Z"
   },
   {
    "duration": 10,
    "start_time": "2022-04-07T10:49:58.406Z"
   },
   {
    "duration": 11,
    "start_time": "2022-04-07T10:49:58.417Z"
   },
   {
    "duration": 25,
    "start_time": "2022-04-07T10:49:58.429Z"
   },
   {
    "duration": 15,
    "start_time": "2022-04-07T10:49:58.456Z"
   },
   {
    "duration": 25,
    "start_time": "2022-04-07T10:49:58.472Z"
   },
   {
    "duration": 16,
    "start_time": "2022-04-07T10:49:58.499Z"
   },
   {
    "duration": 9,
    "start_time": "2022-04-07T10:49:58.516Z"
   },
   {
    "duration": 23,
    "start_time": "2022-04-07T10:49:58.527Z"
   },
   {
    "duration": 4,
    "start_time": "2022-04-07T10:49:58.552Z"
   },
   {
    "duration": 34,
    "start_time": "2022-04-07T10:49:58.557Z"
   },
   {
    "duration": 18,
    "start_time": "2022-04-07T10:49:58.592Z"
   },
   {
    "duration": 10,
    "start_time": "2022-04-07T10:49:58.612Z"
   },
   {
    "duration": 10,
    "start_time": "2022-04-07T10:49:58.624Z"
   },
   {
    "duration": 24,
    "start_time": "2022-04-07T10:49:58.636Z"
   },
   {
    "duration": 8,
    "start_time": "2022-04-07T10:49:58.661Z"
   },
   {
    "duration": 17,
    "start_time": "2022-04-07T10:49:58.670Z"
   },
   {
    "duration": 30,
    "start_time": "2022-04-07T10:49:58.688Z"
   },
   {
    "duration": 12,
    "start_time": "2022-04-07T10:49:58.720Z"
   },
   {
    "duration": 25,
    "start_time": "2022-04-07T10:49:58.733Z"
   },
   {
    "duration": 13,
    "start_time": "2022-04-07T10:49:58.760Z"
   },
   {
    "duration": 17,
    "start_time": "2022-04-07T10:49:58.774Z"
   },
   {
    "duration": 20,
    "start_time": "2022-04-07T10:49:58.794Z"
   },
   {
    "duration": 11,
    "start_time": "2022-04-07T10:49:58.816Z"
   },
   {
    "duration": 22,
    "start_time": "2022-04-07T10:49:58.829Z"
   },
   {
    "duration": 22,
    "start_time": "2022-04-07T10:49:58.853Z"
   },
   {
    "duration": 37,
    "start_time": "2022-04-07T10:49:58.877Z"
   },
   {
    "duration": 37,
    "start_time": "2022-04-07T10:49:58.915Z"
   },
   {
    "duration": 37,
    "start_time": "2022-04-07T10:49:58.954Z"
   },
   {
    "duration": 39,
    "start_time": "2022-04-07T10:49:58.992Z"
   },
   {
    "duration": 17,
    "start_time": "2022-04-07T10:50:01.122Z"
   },
   {
    "duration": 192,
    "start_time": "2022-04-07T10:50:45.568Z"
   },
   {
    "duration": 8,
    "start_time": "2022-04-07T11:33:26.907Z"
   },
   {
    "duration": 7,
    "start_time": "2022-04-07T11:33:28.337Z"
   },
   {
    "duration": 6,
    "start_time": "2022-04-07T11:33:39.341Z"
   },
   {
    "duration": 4,
    "start_time": "2022-04-07T11:33:54.951Z"
   },
   {
    "duration": 7,
    "start_time": "2022-04-07T11:33:55.904Z"
   },
   {
    "duration": 6,
    "start_time": "2022-04-07T11:34:42.710Z"
   },
   {
    "duration": 6,
    "start_time": "2022-04-07T11:36:51.123Z"
   },
   {
    "duration": 9,
    "start_time": "2022-04-07T11:37:32.971Z"
   },
   {
    "duration": 3583,
    "start_time": "2022-04-07T11:38:53.611Z"
   },
   {
    "duration": 6,
    "start_time": "2022-04-07T11:39:12.774Z"
   },
   {
    "duration": 8,
    "start_time": "2022-04-07T11:41:31.076Z"
   },
   {
    "duration": 7,
    "start_time": "2022-04-07T11:41:45.804Z"
   },
   {
    "duration": 7,
    "start_time": "2022-04-07T11:42:11.848Z"
   },
   {
    "duration": 220,
    "start_time": "2022-04-07T11:42:20.583Z"
   },
   {
    "duration": 7,
    "start_time": "2022-04-07T11:42:34.109Z"
   },
   {
    "duration": 2,
    "start_time": "2022-04-07T11:42:41.429Z"
   },
   {
    "duration": 72,
    "start_time": "2022-04-07T11:42:41.433Z"
   },
   {
    "duration": 14,
    "start_time": "2022-04-07T11:42:41.506Z"
   },
   {
    "duration": 60,
    "start_time": "2022-04-07T11:42:41.522Z"
   },
   {
    "duration": 10,
    "start_time": "2022-04-07T11:42:41.583Z"
   },
   {
    "duration": 5,
    "start_time": "2022-04-07T11:42:41.595Z"
   },
   {
    "duration": 8,
    "start_time": "2022-04-07T11:42:41.602Z"
   },
   {
    "duration": 9,
    "start_time": "2022-04-07T11:42:41.611Z"
   },
   {
    "duration": 4,
    "start_time": "2022-04-07T11:42:41.622Z"
   },
   {
    "duration": 16,
    "start_time": "2022-04-07T11:42:41.627Z"
   },
   {
    "duration": 7,
    "start_time": "2022-04-07T11:42:41.644Z"
   },
   {
    "duration": 33,
    "start_time": "2022-04-07T11:42:41.652Z"
   },
   {
    "duration": 7,
    "start_time": "2022-04-07T11:42:41.686Z"
   },
   {
    "duration": 4,
    "start_time": "2022-04-07T11:43:08.933Z"
   },
   {
    "duration": 8,
    "start_time": "2022-04-07T11:50:41.940Z"
   },
   {
    "duration": 8,
    "start_time": "2022-04-07T11:52:41.461Z"
   },
   {
    "duration": 6,
    "start_time": "2022-04-07T11:52:57.076Z"
   },
   {
    "duration": 8,
    "start_time": "2022-04-07T11:53:41.831Z"
   },
   {
    "duration": 7,
    "start_time": "2022-04-07T11:54:26.793Z"
   },
   {
    "duration": 7,
    "start_time": "2022-04-07T11:54:29.662Z"
   },
   {
    "duration": 180,
    "start_time": "2022-04-07T11:54:38.703Z"
   },
   {
    "duration": 3054,
    "start_time": "2022-04-07T11:54:46.829Z"
   },
   {
    "duration": 46,
    "start_time": "2022-04-07T15:52:23.210Z"
   },
   {
    "duration": 6,
    "start_time": "2022-04-07T15:52:23.677Z"
   },
   {
    "duration": 414,
    "start_time": "2022-04-07T15:52:28.542Z"
   },
   {
    "duration": 71,
    "start_time": "2022-04-07T15:52:28.958Z"
   },
   {
    "duration": 15,
    "start_time": "2022-04-07T15:52:29.030Z"
   },
   {
    "duration": 22,
    "start_time": "2022-04-07T15:52:29.048Z"
   },
   {
    "duration": 11,
    "start_time": "2022-04-07T15:52:29.072Z"
   },
   {
    "duration": 7,
    "start_time": "2022-04-07T15:52:29.085Z"
   },
   {
    "duration": 7,
    "start_time": "2022-04-07T15:52:29.093Z"
   },
   {
    "duration": 8,
    "start_time": "2022-04-07T15:52:29.102Z"
   },
   {
    "duration": 3,
    "start_time": "2022-04-07T15:52:29.112Z"
   },
   {
    "duration": 46,
    "start_time": "2022-04-07T15:52:29.117Z"
   },
   {
    "duration": 6,
    "start_time": "2022-04-07T15:52:30.374Z"
   },
   {
    "duration": 4,
    "start_time": "2022-04-07T15:52:32.778Z"
   },
   {
    "duration": 8,
    "start_time": "2022-04-07T15:52:33.628Z"
   },
   {
    "duration": 397,
    "start_time": "2022-04-07T15:55:27.797Z"
   },
   {
    "duration": 78,
    "start_time": "2022-04-07T15:55:28.196Z"
   },
   {
    "duration": 13,
    "start_time": "2022-04-07T15:55:28.276Z"
   },
   {
    "duration": 9,
    "start_time": "2022-04-07T15:55:28.291Z"
   },
   {
    "duration": 9,
    "start_time": "2022-04-07T15:55:28.302Z"
   },
   {
    "duration": 6,
    "start_time": "2022-04-07T15:55:28.313Z"
   },
   {
    "duration": 6,
    "start_time": "2022-04-07T15:55:28.320Z"
   },
   {
    "duration": 8,
    "start_time": "2022-04-07T15:55:28.363Z"
   },
   {
    "duration": 3,
    "start_time": "2022-04-07T15:55:28.372Z"
   },
   {
    "duration": 8,
    "start_time": "2022-04-07T15:55:28.378Z"
   },
   {
    "duration": 4,
    "start_time": "2022-04-07T15:55:28.387Z"
   },
   {
    "duration": 7,
    "start_time": "2022-04-07T15:55:28.393Z"
   },
   {
    "duration": 4,
    "start_time": "2022-04-07T15:55:28.402Z"
   },
   {
    "duration": 5,
    "start_time": "2022-04-07T15:55:28.408Z"
   },
   {
    "duration": 51,
    "start_time": "2022-04-07T15:55:28.414Z"
   },
   {
    "duration": 5,
    "start_time": "2022-04-07T15:55:28.467Z"
   },
   {
    "duration": 17,
    "start_time": "2022-04-07T15:55:28.474Z"
   },
   {
    "duration": 11,
    "start_time": "2022-04-07T15:55:28.492Z"
   },
   {
    "duration": 4,
    "start_time": "2022-04-07T15:55:28.505Z"
   },
   {
    "duration": 19,
    "start_time": "2022-04-07T15:55:28.511Z"
   },
   {
    "duration": 38,
    "start_time": "2022-04-07T15:55:28.531Z"
   },
   {
    "duration": 11,
    "start_time": "2022-04-07T15:55:28.570Z"
   },
   {
    "duration": 10,
    "start_time": "2022-04-07T15:55:28.583Z"
   },
   {
    "duration": 9,
    "start_time": "2022-04-07T15:55:28.594Z"
   },
   {
    "duration": 4,
    "start_time": "2022-04-07T15:55:28.605Z"
   },
   {
    "duration": 7,
    "start_time": "2022-04-07T15:55:28.610Z"
   },
   {
    "duration": 18,
    "start_time": "2022-04-07T15:55:28.619Z"
   },
   {
    "duration": 11,
    "start_time": "2022-04-07T15:55:28.662Z"
   },
   {
    "duration": 15,
    "start_time": "2022-04-07T15:55:28.674Z"
   },
   {
    "duration": 8,
    "start_time": "2022-04-07T15:55:28.691Z"
   },
   {
    "duration": 5,
    "start_time": "2022-04-07T15:55:28.701Z"
   },
   {
    "duration": 6,
    "start_time": "2022-04-07T15:55:28.708Z"
   },
   {
    "duration": 6,
    "start_time": "2022-04-07T15:55:28.715Z"
   },
   {
    "duration": 13,
    "start_time": "2022-04-07T15:55:28.722Z"
   },
   {
    "duration": 28,
    "start_time": "2022-04-07T15:55:28.736Z"
   },
   {
    "duration": 22,
    "start_time": "2022-04-07T15:55:28.765Z"
   },
   {
    "duration": 19,
    "start_time": "2022-04-07T15:55:28.788Z"
   },
   {
    "duration": 17,
    "start_time": "2022-04-07T15:55:28.808Z"
   },
   {
    "duration": 41,
    "start_time": "2022-04-07T15:55:28.826Z"
   },
   {
    "duration": 17,
    "start_time": "2022-04-07T15:55:28.869Z"
   },
   {
    "duration": 387,
    "start_time": "2022-04-07T15:56:19.916Z"
   },
   {
    "duration": 71,
    "start_time": "2022-04-07T15:56:20.305Z"
   },
   {
    "duration": 14,
    "start_time": "2022-04-07T15:56:20.377Z"
   },
   {
    "duration": 10,
    "start_time": "2022-04-07T15:56:20.393Z"
   },
   {
    "duration": 14,
    "start_time": "2022-04-07T15:56:20.404Z"
   },
   {
    "duration": 7,
    "start_time": "2022-04-07T15:56:20.420Z"
   },
   {
    "duration": 8,
    "start_time": "2022-04-07T15:56:20.429Z"
   },
   {
    "duration": 31,
    "start_time": "2022-04-07T15:56:20.438Z"
   },
   {
    "duration": 4,
    "start_time": "2022-04-07T15:56:20.471Z"
   },
   {
    "duration": 11,
    "start_time": "2022-04-07T15:56:20.477Z"
   },
   {
    "duration": 5,
    "start_time": "2022-04-07T15:56:20.490Z"
   },
   {
    "duration": 14,
    "start_time": "2022-04-07T15:56:20.496Z"
   },
   {
    "duration": 6,
    "start_time": "2022-04-07T15:56:20.511Z"
   },
   {
    "duration": 5,
    "start_time": "2022-04-07T15:56:20.518Z"
   },
   {
    "duration": 14,
    "start_time": "2022-04-07T15:56:20.525Z"
   },
   {
    "duration": 6,
    "start_time": "2022-04-07T15:56:20.563Z"
   },
   {
    "duration": 17,
    "start_time": "2022-04-07T15:56:20.571Z"
   },
   {
    "duration": 12,
    "start_time": "2022-04-07T15:56:20.589Z"
   },
   {
    "duration": 18,
    "start_time": "2022-04-07T15:56:20.603Z"
   },
   {
    "duration": 21,
    "start_time": "2022-04-07T15:56:20.622Z"
   },
   {
    "duration": 18,
    "start_time": "2022-04-07T15:56:20.645Z"
   },
   {
    "duration": 12,
    "start_time": "2022-04-07T15:56:20.664Z"
   },
   {
    "duration": 11,
    "start_time": "2022-04-07T15:56:20.678Z"
   },
   {
    "duration": 10,
    "start_time": "2022-04-07T15:56:20.691Z"
   },
   {
    "duration": 7,
    "start_time": "2022-04-07T15:56:20.703Z"
   },
   {
    "duration": 11,
    "start_time": "2022-04-07T15:56:20.711Z"
   },
   {
    "duration": 20,
    "start_time": "2022-04-07T15:56:20.723Z"
   },
   {
    "duration": 12,
    "start_time": "2022-04-07T15:56:20.762Z"
   },
   {
    "duration": 11,
    "start_time": "2022-04-07T15:56:20.776Z"
   },
   {
    "duration": 7,
    "start_time": "2022-04-07T15:56:20.789Z"
   },
   {
    "duration": 5,
    "start_time": "2022-04-07T15:56:20.797Z"
   },
   {
    "duration": 7,
    "start_time": "2022-04-07T15:56:20.804Z"
   },
   {
    "duration": 7,
    "start_time": "2022-04-07T15:56:20.812Z"
   },
   {
    "duration": 12,
    "start_time": "2022-04-07T15:56:20.821Z"
   },
   {
    "duration": 29,
    "start_time": "2022-04-07T15:56:20.835Z"
   },
   {
    "duration": 21,
    "start_time": "2022-04-07T15:56:20.866Z"
   },
   {
    "duration": 18,
    "start_time": "2022-04-07T15:56:20.889Z"
   },
   {
    "duration": 16,
    "start_time": "2022-04-07T15:56:20.909Z"
   },
   {
    "duration": 46,
    "start_time": "2022-04-07T15:56:20.926Z"
   },
   {
    "duration": 17,
    "start_time": "2022-04-07T15:56:20.973Z"
   },
   {
    "duration": 388,
    "start_time": "2022-04-08T15:10:49.007Z"
   },
   {
    "duration": 76,
    "start_time": "2022-04-08T15:10:49.397Z"
   },
   {
    "duration": 14,
    "start_time": "2022-04-08T15:10:49.474Z"
   },
   {
    "duration": 14,
    "start_time": "2022-04-08T15:10:49.490Z"
   },
   {
    "duration": 11,
    "start_time": "2022-04-08T15:10:49.506Z"
   },
   {
    "duration": 6,
    "start_time": "2022-04-08T15:10:49.519Z"
   },
   {
    "duration": 7,
    "start_time": "2022-04-08T15:10:49.526Z"
   },
   {
    "duration": 33,
    "start_time": "2022-04-08T15:10:49.534Z"
   },
   {
    "duration": 4,
    "start_time": "2022-04-08T15:10:49.568Z"
   },
   {
    "duration": 9,
    "start_time": "2022-04-08T15:10:49.573Z"
   },
   {
    "duration": 6,
    "start_time": "2022-04-08T15:10:49.584Z"
   },
   {
    "duration": 10,
    "start_time": "2022-04-08T15:10:49.591Z"
   },
   {
    "duration": 6,
    "start_time": "2022-04-08T15:10:49.602Z"
   },
   {
    "duration": 4,
    "start_time": "2022-04-08T15:10:49.611Z"
   },
   {
    "duration": 12,
    "start_time": "2022-04-08T15:10:49.616Z"
   },
   {
    "duration": 29,
    "start_time": "2022-04-08T15:10:49.630Z"
   },
   {
    "duration": 8,
    "start_time": "2022-04-08T15:10:49.661Z"
   },
   {
    "duration": 31,
    "start_time": "2022-04-08T15:10:49.671Z"
   },
   {
    "duration": 12,
    "start_time": "2022-04-08T15:10:49.704Z"
   },
   {
    "duration": 20,
    "start_time": "2022-04-08T15:10:49.717Z"
   },
   {
    "duration": 19,
    "start_time": "2022-04-08T15:10:49.739Z"
   },
   {
    "duration": 11,
    "start_time": "2022-04-08T15:10:49.759Z"
   },
   {
    "duration": 13,
    "start_time": "2022-04-08T15:10:49.771Z"
   },
   {
    "duration": 11,
    "start_time": "2022-04-08T15:10:49.785Z"
   },
   {
    "duration": 5,
    "start_time": "2022-04-08T15:10:49.797Z"
   },
   {
    "duration": 11,
    "start_time": "2022-04-08T15:10:49.803Z"
   },
   {
    "duration": 27,
    "start_time": "2022-04-08T15:10:49.816Z"
   },
   {
    "duration": 19,
    "start_time": "2022-04-08T15:10:49.845Z"
   },
   {
    "duration": 13,
    "start_time": "2022-04-08T15:10:49.866Z"
   },
   {
    "duration": 8,
    "start_time": "2022-04-08T15:10:49.881Z"
   },
   {
    "duration": 7,
    "start_time": "2022-04-08T15:10:49.890Z"
   },
   {
    "duration": 7,
    "start_time": "2022-04-08T15:10:49.899Z"
   },
   {
    "duration": 7,
    "start_time": "2022-04-08T15:10:49.907Z"
   },
   {
    "duration": 17,
    "start_time": "2022-04-08T15:10:49.916Z"
   },
   {
    "duration": 4,
    "start_time": "2022-04-08T15:10:49.959Z"
   },
   {
    "duration": 36,
    "start_time": "2022-04-08T15:10:49.965Z"
   },
   {
    "duration": 29,
    "start_time": "2022-04-08T15:10:50.003Z"
   },
   {
    "duration": 49,
    "start_time": "2022-04-08T15:10:50.034Z"
   },
   {
    "duration": 26,
    "start_time": "2022-04-08T15:10:50.085Z"
   },
   {
    "duration": 45,
    "start_time": "2022-04-08T15:10:50.113Z"
   },
   {
    "duration": 408,
    "start_time": "2023-03-16T14:33:23.124Z"
   },
   {
    "duration": 145,
    "start_time": "2023-03-16T14:33:23.533Z"
   },
   {
    "duration": 13,
    "start_time": "2023-03-16T14:33:23.679Z"
   },
   {
    "duration": 10,
    "start_time": "2023-03-16T14:33:24.595Z"
   },
   {
    "duration": 10,
    "start_time": "2023-03-16T14:33:24.949Z"
   },
   {
    "duration": 7,
    "start_time": "2023-03-16T14:33:26.021Z"
   },
   {
    "duration": 6,
    "start_time": "2023-03-16T14:33:27.193Z"
   },
   {
    "duration": 9,
    "start_time": "2023-03-16T14:33:27.987Z"
   },
   {
    "duration": 3,
    "start_time": "2023-03-16T14:33:28.315Z"
   },
   {
    "duration": 6,
    "start_time": "2023-03-16T14:33:28.498Z"
   },
   {
    "duration": 4,
    "start_time": "2023-03-16T14:33:28.826Z"
   },
   {
    "duration": 7,
    "start_time": "2023-03-16T14:33:29.005Z"
   },
   {
    "duration": 5,
    "start_time": "2023-03-16T14:33:30.715Z"
   },
   {
    "duration": 4,
    "start_time": "2023-03-16T14:33:31.088Z"
   },
   {
    "duration": 9,
    "start_time": "2023-03-16T14:33:31.602Z"
   },
   {
    "duration": 6,
    "start_time": "2023-03-16T14:33:32.611Z"
   },
   {
    "duration": 6,
    "start_time": "2023-03-16T14:33:32.925Z"
   },
   {
    "duration": 6,
    "start_time": "2023-03-16T14:33:33.881Z"
   },
   {
    "duration": 3,
    "start_time": "2023-03-16T14:33:34.516Z"
   },
   {
    "duration": 19,
    "start_time": "2023-03-16T14:33:35.589Z"
   },
   {
    "duration": 17,
    "start_time": "2023-03-16T14:33:35.902Z"
   },
   {
    "duration": 10,
    "start_time": "2023-03-16T14:33:36.582Z"
   },
   {
    "duration": 8,
    "start_time": "2023-03-16T14:33:36.959Z"
   },
   {
    "duration": 7,
    "start_time": "2023-03-16T14:33:37.326Z"
   },
   {
    "duration": 3,
    "start_time": "2023-03-16T14:33:37.688Z"
   },
   {
    "duration": 5,
    "start_time": "2023-03-16T14:33:38.517Z"
   },
   {
    "duration": 19,
    "start_time": "2023-03-16T14:33:39.300Z"
   },
   {
    "duration": 11,
    "start_time": "2023-03-16T14:33:39.652Z"
   },
   {
    "duration": 11,
    "start_time": "2023-03-16T14:33:40.022Z"
   },
   {
    "duration": 7,
    "start_time": "2023-03-16T14:33:42.906Z"
   },
   {
    "duration": 4,
    "start_time": "2023-03-16T14:33:46.729Z"
   },
   {
    "duration": 3,
    "start_time": "2023-03-16T14:33:47.048Z"
   },
   {
    "duration": 5,
    "start_time": "2023-03-16T14:33:47.395Z"
   },
   {
    "duration": 10,
    "start_time": "2023-03-16T14:33:47.911Z"
   },
   {
    "duration": 3,
    "start_time": "2023-03-16T14:33:50.184Z"
   },
   {
    "duration": 22,
    "start_time": "2023-03-16T14:33:50.535Z"
   },
   {
    "duration": 1247,
    "start_time": "2023-03-16T14:34:25.875Z"
   },
   {
    "duration": 15,
    "start_time": "2023-03-16T14:34:55.028Z"
   },
   {
    "duration": 68,
    "start_time": "2023-03-16T14:36:04.576Z"
   },
   {
    "duration": 8,
    "start_time": "2023-03-16T14:36:09.422Z"
   },
   {
    "duration": 15,
    "start_time": "2023-03-16T14:36:17.506Z"
   },
   {
    "duration": 14,
    "start_time": "2023-03-16T14:37:16.461Z"
   },
   {
    "duration": 13,
    "start_time": "2023-03-16T14:38:19.044Z"
   },
   {
    "duration": 14,
    "start_time": "2023-03-16T14:38:38.216Z"
   },
   {
    "duration": 15,
    "start_time": "2023-03-16T14:40:01.531Z"
   },
   {
    "duration": 27,
    "start_time": "2023-03-16T14:40:22.282Z"
   },
   {
    "duration": 14,
    "start_time": "2023-03-16T14:40:41.210Z"
   },
   {
    "duration": 15,
    "start_time": "2023-03-16T14:41:00.772Z"
   },
   {
    "duration": 15,
    "start_time": "2023-03-16T14:41:25.916Z"
   },
   {
    "duration": 13,
    "start_time": "2023-03-16T14:41:45.778Z"
   },
   {
    "duration": 16,
    "start_time": "2023-03-16T14:42:04.285Z"
   },
   {
    "duration": 13,
    "start_time": "2023-03-16T14:42:18.971Z"
   },
   {
    "duration": 14,
    "start_time": "2023-03-16T14:42:32.602Z"
   },
   {
    "duration": 21,
    "start_time": "2023-03-16T14:42:52.176Z"
   },
   {
    "duration": 17,
    "start_time": "2023-03-16T14:44:01.858Z"
   },
   {
    "duration": 14,
    "start_time": "2023-03-16T14:44:23.938Z"
   },
   {
    "duration": 18,
    "start_time": "2023-03-16T14:44:37.148Z"
   },
   {
    "duration": 4,
    "start_time": "2023-03-16T14:46:31.538Z"
   },
   {
    "duration": 19,
    "start_time": "2023-03-16T14:52:10.037Z"
   }
  ],
  "kernelspec": {
   "display_name": "Python 3 (ipykernel)",
   "language": "python",
   "name": "python3"
  },
  "language_info": {
   "codemirror_mode": {
    "name": "ipython",
    "version": 3
   },
   "file_extension": ".py",
   "mimetype": "text/x-python",
   "name": "python",
   "nbconvert_exporter": "python",
   "pygments_lexer": "ipython3",
   "version": "3.9.7"
  },
  "toc": {
   "base_numbering": 1,
   "nav_menu": {},
   "number_sections": true,
   "sideBar": true,
   "skip_h1_title": true,
   "title_cell": "Table of Contents",
   "title_sidebar": "Contents",
   "toc_cell": false,
   "toc_position": {},
   "toc_section_display": true,
   "toc_window_display": false
  }
 },
 "nbformat": 4,
 "nbformat_minor": 5
}
